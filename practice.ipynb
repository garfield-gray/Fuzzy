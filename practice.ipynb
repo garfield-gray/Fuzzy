{
 "cells": [
  {
   "cell_type": "code",
   "execution_count": 2,
   "id": "46e862ad",
   "metadata": {},
   "outputs": [
    {
     "name": "stdout",
     "output_type": "stream",
     "text": [
      "6\n"
     ]
    }
   ],
   "source": [
    "print(6)"
   ]
  },
  {
   "cell_type": "code",
   "execution_count": 1,
   "id": "0d7a4f8b",
   "metadata": {},
   "outputs": [],
   "source": [
    "import skfuzzy as fuzz"
   ]
  },
  {
   "cell_type": "code",
   "execution_count": 2,
   "id": "464cf42f",
   "metadata": {},
   "outputs": [
    {
     "data": {
      "text/plain": [
       "<module 'skfuzzy' from '/home/garfield/anaconda3/lib/python3.8/site-packages/skfuzzy/__init__.py'>"
      ]
     },
     "execution_count": 2,
     "metadata": {},
     "output_type": "execute_result"
    }
   ],
   "source": [
    "fuzz"
   ]
  },
  {
   "cell_type": "code",
   "execution_count": 3,
   "id": "61ec733b",
   "metadata": {},
   "outputs": [],
   "source": [
    "import numpy as np\n",
    "import skfuzzy as fuzz\n",
    "import matplotlib.pyplot as plt\n"
   ]
  },
  {
   "cell_type": "code",
   "execution_count": 10,
   "id": "929f74d0",
   "metadata": {},
   "outputs": [],
   "source": [
    "x_qual = np.arange(0, 11, 0.01)"
   ]
  },
  {
   "cell_type": "code",
   "execution_count": 11,
   "id": "d153ca57",
   "metadata": {},
   "outputs": [
    {
     "data": {
      "text/plain": [
       "array([0.000e+00, 1.000e-02, 2.000e-02, ..., 1.097e+01, 1.098e+01,\n",
       "       1.099e+01])"
      ]
     },
     "execution_count": 11,
     "metadata": {},
     "output_type": "execute_result"
    }
   ],
   "source": [
    "x_qual"
   ]
  },
  {
   "cell_type": "code",
   "execution_count": 12,
   "id": "7976e9ff",
   "metadata": {},
   "outputs": [],
   "source": [
    "qual_lo = fuzz.trimf(x_qual, [0, 0, 5])"
   ]
  },
  {
   "cell_type": "code",
   "execution_count": 13,
   "id": "7e4a0d88",
   "metadata": {},
   "outputs": [
    {
     "data": {
      "text/plain": [
       "array([1.   , 0.998, 0.996, ..., 0.   , 0.   , 0.   ])"
      ]
     },
     "execution_count": 13,
     "metadata": {},
     "output_type": "execute_result"
    }
   ],
   "source": [
    "qual_lo \n"
   ]
  },
  {
   "cell_type": "code",
   "execution_count": 14,
   "id": "62ea2936",
   "metadata": {},
   "outputs": [
    {
     "data": {
      "text/plain": [
       "array([1.00000000e+00, 9.99950001e-01, 9.99800020e-01, ...,\n",
       "       7.38423639e-27, 6.61670499e-27, 5.92835938e-27])"
      ]
     },
     "execution_count": 14,
     "metadata": {},
     "output_type": "execute_result"
    }
   ],
   "source": [
    "fuzz.membership.gaussmf(x_qual, 0, 1)"
   ]
  },
  {
   "cell_type": "code",
   "execution_count": null,
   "id": "114fc9d0",
   "metadata": {},
   "outputs": [],
   "source": []
  }
 ],
 "metadata": {
  "kernelspec": {
   "display_name": "Python 3 (ipykernel)",
   "language": "python",
   "name": "python3"
  },
  "language_info": {
   "codemirror_mode": {
    "name": "ipython",
    "version": 3
   },
   "file_extension": ".py",
   "mimetype": "text/x-python",
   "name": "python",
   "nbconvert_exporter": "python",
   "pygments_lexer": "ipython3",
   "version": "3.8.12"
  }
 },
 "nbformat": 4,
 "nbformat_minor": 5
}
