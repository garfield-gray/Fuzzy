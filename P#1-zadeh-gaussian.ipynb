{
 "cells": [
  {
   "cell_type": "code",
   "execution_count": 1,
   "id": "804fb407",
   "metadata": {},
   "outputs": [],
   "source": [
    "import numpy as np\n",
    "import skfuzzy as fuzz\n",
    "import matplotlib.pyplot as plt\n",
    "import pandas as pd"
   ]
  },
  {
   "cell_type": "code",
   "execution_count": 2,
   "id": "1c6c647f",
   "metadata": {},
   "outputs": [],
   "source": [
    "from scipy.optimize import differential_evolution, NonlinearConstraint, Bounds, minimize, fmin, rosen"
   ]
  },
  {
   "cell_type": "code",
   "execution_count": 55,
   "id": "a55fa939",
   "metadata": {},
   "outputs": [],
   "source": [
    "# Generate universe variables\n",
    "#sources: \"https://github.com/scikit-fuzzy/scikit-fuzzy/blob/master/skfuzzy/membership/generatemf.py\"\n",
    "\n",
    "#   * Light on subjective ranges [0, 100]\n",
    "#   * Motion on subjective ranges [0, 25] in units of percentage points\n",
    "#   * Shutter Speed has a range of [0, 20] in small steps (due to the data)\n",
    "x_light = np.arange(0, 101, 1)\n",
    "x_motion = np.arange(0, 26, 1)\n",
    "x_ss  = np.arange(0, 20, 0.0001)                                        \n",
    "\n",
    "\n",
    "#well this function takes a vector/list of variables for mf boundies with input & spits out a number for sin()\n",
    "def Sh(X, l, m):\n",
    "    light_lo = fuzz.gaussmf(x_light,  X[0], X[1])\n",
    "    light_md = fuzz.gaussmf(x_light,  X[2], X[3])\n",
    "    light_hi = fuzz.gaussmf(x_light,  X[4], X[5])\n",
    "\n",
    "    motion_st = fuzz.gaussmf(x_motion,  X[6], X[7])\n",
    "    motion_mo = fuzz.gaussmf(x_motion,  X[8], X[9])\n",
    "    motion_hi = fuzz.gaussmf(x_motion,  X[10], X[11])\n",
    "\n",
    "    ss_lo = fuzz.gaussmf(x_ss,  X[12], X[13])\n",
    "    ss_md = fuzz.gaussmf(x_ss,  X[14], X[15])\n",
    "    ss_hi = fuzz.gaussmf(x_ss,  X[16], X[17])\n",
    "    \n",
    "    light_level_lo = fuzz.interp_membership(x_light, light_lo, l)\n",
    "    light_level_md = fuzz.interp_membership(x_light, light_md, l)\n",
    "    light_level_hi = fuzz.interp_membership(x_light, light_hi, l)\n",
    "\n",
    "    motion_level_st = fuzz.interp_membership(x_motion, motion_st, m)\n",
    "    motion_level_mo = fuzz.interp_membership(x_motion, motion_mo, m)\n",
    "    motion_level_hi = fuzz.interp_membership(x_motion, motion_hi, m)\n",
    "    \n",
    "    \n",
    "    active_rule1 = np.fmin(light_level_lo, motion_level_st)\n",
    "    \n",
    "    ss_activation_lo = np.fmax(np.fmin(active_rule1, ss_lo), 1-active_rule1)\n",
    "    \n",
    "    \n",
    "    \n",
    "    # For rule 2 & 3 :\n",
    "    active_rule2 = np.fmin(light_level_md, motion_level_st)\n",
    "    ss_activation_md2 = np.fmax(np.fmin(active_rule2, ss_md), 1-active_rule2)\n",
    "\n",
    "    active_rule3 = np.fmin(light_level_hi, motion_level_st)\n",
    "    ss_activation_hi3 = np.fmax(np.fmin(active_rule3, ss_hi), 1-active_rule3)\n",
    "\n",
    "    active_rule4 = np.fmin(light_level_lo, motion_level_mo)\n",
    "    ss_activation_md4 = np.fmax(np.fmin(active_rule4, ss_md), 1-active_rule4)\n",
    "\n",
    "    active_rule5 = np.fmin(light_level_md, motion_level_mo)\n",
    "    ss_activation_hi5 = np.fmax(np.fmin(active_rule5, ss_hi), 1-active_rule5)\n",
    "\n",
    "    active_rule6 = np.fmin(light_level_hi, motion_level_hi)\n",
    "    ss_activation_hi6 = np.fmax(np.fmin(active_rule5, ss_hi), 1-active_rule6)\n",
    "\n",
    "    active_rule7 = np.fmin(light_level_lo, motion_level_hi)\n",
    "    ss_activation_md7 = np.fmax(np.fmin(active_rule7, ss_md), 1-active_rule7)\n",
    "\n",
    "    active_rule8 = np.fmin(light_level_md, motion_level_hi)\n",
    "    ss_activation_hi8 = np.fmax(np.fmin(active_rule8, ss_hi), 1-active_rule8)\n",
    "\n",
    "    active_rule9 = np.fmin(light_level_hi, motion_level_mo)\n",
    "    ss_activation_md9 = np.fmax(np.fmin(active_rule9, ss_md), 1-active_rule9)\n",
    "\n",
    "    ss_activation_md = np.fmax(np.fmax(ss_activation_md2, ss_activation_md4), np.fmax(ss_activation_md7, ss_activation_md9))\n",
    "\n",
    "    ss_activation_hi = np.fmax(np.fmax(ss_activation_hi3, ss_activation_hi5), np.fmax(ss_activation_hi6, ss_activation_hi8))\n",
    "\n",
    "    agg = np.fmin(np.fmin(ss_activation_lo, ss_activation_md), ss_activation_hi)\n",
    "        \n",
    "    ss = fuzz.defuzz(x_ss, agg, 'centroid')\n",
    "    \n",
    "    if agg.sum() == 0:\n",
    "        return 10\n",
    "\n",
    "    y = fuzz.defuzz(x_ss, agg, 'centroid')\n",
    "    \n",
    "    return y"
   ]
  },
  {
   "cell_type": "code",
   "execution_count": 56,
   "id": "c5d89f08",
   "metadata": {},
   "outputs": [
    {
     "data": {
      "text/plain": [
       "9.999950000011266"
      ]
     },
     "execution_count": 56,
     "metadata": {},
     "output_type": "execute_result"
    }
   ],
   "source": [
    "Sh([7, 7, 50, 30, 3, 80, 30, 2, 3, 8, 7, 18, 10, 2, 3, 7, 7, 18, 10], 60, 16)"
   ]
  },
  {
   "cell_type": "code",
   "execution_count": 5,
   "id": "7a823564",
   "metadata": {},
   "outputs": [],
   "source": [
    "data = pd.read_excel (r'Final Project/Data_Camera2.xlsx')\n"
   ]
  },
  {
   "cell_type": "code",
   "execution_count": 6,
   "id": "f25c4c05",
   "metadata": {},
   "outputs": [
    {
     "data": {
      "text/plain": [
       "0"
      ]
     },
     "execution_count": 6,
     "metadata": {},
     "output_type": "execute_result"
    }
   ],
   "source": [
    "data['Light'].iloc[7]"
   ]
  },
  {
   "cell_type": "code",
   "execution_count": 31,
   "id": "1c7f86ac",
   "metadata": {},
   "outputs": [],
   "source": [
    "Li = []\n",
    "Ob = []\n",
    "Sh = []\n",
    "for i in range(48):\n",
    "    Li.append(data['Light'].iloc[i])\n",
    "    #Ob.append(data['Object Motion'].iloc[i])\n",
    "    Sh.append(data['Shutter Speed'].iloc[i])\n",
    "Ob = [1, 4, 7,10, 13, 16, 19, 22, 1\n",
    ",4\n",
    ",7\n",
    ",10\n",
    ",13\n",
    ",16\n",
    ",19\n",
    ",22\n",
    ",1\n",
    ",4\n",
    ",7\n",
    ",10\n",
    ",13\n",
    ",16\n",
    ",19\n",
    ",22\n",
    ",1\n",
    ",4\n",
    ",7\n",
    ",10\n",
    ",13\n",
    ",16\n",
    ",19\n",
    ",22\n",
    ",1\n",
    ",4\n",
    ",7\n",
    ",10\n",
    ",13\n",
    ",16\n",
    ",19\n",
    ",22\n",
    ",1\n",
    ",4\n",
    ",7\n",
    ",10\n",
    ",13\n",
    ",16\n",
    ",19\n",
    ",22]"
   ]
  },
  {
   "cell_type": "code",
   "execution_count": 32,
   "id": "f3c7e0c0",
   "metadata": {},
   "outputs": [],
   "source": [
    "Dy = np.hstack((Li, Ob, Sh))\n",
    "Dy = np.reshape(Dy, (48, 3), order='F')\n",
    "np.random.shuffle(Dy)\n",
    "n,d = Dy.shape"
   ]
  },
  {
   "cell_type": "code",
   "execution_count": 33,
   "id": "93c3cc4a",
   "metadata": {},
   "outputs": [
    {
     "name": "stdout",
     "output_type": "stream",
     "text": [
      "(33, 3)\n",
      "(7, 3)\n",
      "(8, 3)\n"
     ]
    }
   ],
   "source": [
    "trsize = int(0.7*n)\n",
    "vasize = int(0.85*n)\n",
    "Dt = Dy[0:trsize, :] \n",
    "Dv = Dy[trsize:vasize, :] \n",
    "Dte = Dy[vasize:n, :] \n",
    "print(Dt.shape)\n",
    "print(Dv.shape)\n",
    "print(Dte.shape)"
   ]
  },
  {
   "cell_type": "code",
   "execution_count": 65,
   "id": "c0280ae7",
   "metadata": {},
   "outputs": [],
   "source": [
    "def Error1(X):\n",
    "    v = np.array([])\n",
    "    for i in Dt:\n",
    "        #d = Sh(X, i[0], i[1])-i[2]\n",
    "        #d = Sh(X, i[0], i[1])\n",
    "        d = i[2]\n",
    "        v = np.append(v, d)\n",
    "    return np.linalg.norm(v, 2)"
   ]
  },
  {
   "cell_type": "code",
   "execution_count": 66,
   "id": "ada687da",
   "metadata": {},
   "outputs": [],
   "source": [
    "bounds = [(-10, 40), (0, 35),\n",
    "          (-10, 100), (0, 100),\n",
    "          (-10, 150), (0, 160),\n",
    "          (-10, 40), (0, 20),\n",
    "          (-10, 100), (0, 40),\n",
    "          (-10, 40), (0, 70),\n",
    "          (-10, 40), (0, 19),\n",
    "          (-10, 70), (0, 30),\n",
    "          (-10, 100), (0, 50)]"
   ]
  },
  {
   "cell_type": "code",
   "execution_count": 67,
   "id": "80ff5f76",
   "metadata": {
    "scrolled": true
   },
   "outputs": [
    {
     "ename": "ValueError",
     "evalue": "operands could not be broadcast together with shapes (19,) (18,) ",
     "output_type": "error",
     "traceback": [
      "\u001b[0;31m---------------------------------------------------------------------------\u001b[0m",
      "\u001b[0;31mValueError\u001b[0m                                Traceback (most recent call last)",
      "\u001b[0;32m/tmp/ipykernel_12468/979554260.py\u001b[0m in \u001b[0;36m<module>\u001b[0;34m\u001b[0m\n\u001b[1;32m      1\u001b[0m \u001b[0mxinitial\u001b[0m \u001b[0;34m=\u001b[0m \u001b[0;34m[\u001b[0m\u001b[0;36m7\u001b[0m\u001b[0;34m,\u001b[0m \u001b[0;36m7\u001b[0m\u001b[0;34m,\u001b[0m \u001b[0;36m50\u001b[0m\u001b[0;34m,\u001b[0m \u001b[0;36m30\u001b[0m\u001b[0;34m,\u001b[0m \u001b[0;36m3\u001b[0m\u001b[0;34m,\u001b[0m \u001b[0;36m80\u001b[0m\u001b[0;34m,\u001b[0m \u001b[0;36m30\u001b[0m\u001b[0;34m,\u001b[0m \u001b[0;36m2\u001b[0m\u001b[0;34m,\u001b[0m \u001b[0;36m3\u001b[0m\u001b[0;34m,\u001b[0m \u001b[0;36m8\u001b[0m\u001b[0;34m,\u001b[0m \u001b[0;36m7\u001b[0m\u001b[0;34m,\u001b[0m \u001b[0;36m18\u001b[0m\u001b[0;34m,\u001b[0m \u001b[0;36m10\u001b[0m\u001b[0;34m,\u001b[0m \u001b[0;36m2\u001b[0m\u001b[0;34m,\u001b[0m \u001b[0;36m3\u001b[0m\u001b[0;34m,\u001b[0m \u001b[0;36m7\u001b[0m\u001b[0;34m,\u001b[0m \u001b[0;36m7\u001b[0m\u001b[0;34m,\u001b[0m \u001b[0;36m18\u001b[0m\u001b[0;34m,\u001b[0m \u001b[0;36m10\u001b[0m\u001b[0;34m]\u001b[0m\u001b[0;34m\u001b[0m\u001b[0;34m\u001b[0m\u001b[0m\n\u001b[0;32m----> 2\u001b[0;31m \u001b[0mresult1\u001b[0m \u001b[0;34m=\u001b[0m \u001b[0mdifferential_evolution\u001b[0m\u001b[0;34m(\u001b[0m\u001b[0mError1\u001b[0m\u001b[0;34m,\u001b[0m \u001b[0mbounds\u001b[0m\u001b[0;34m,\u001b[0m \u001b[0mx0\u001b[0m \u001b[0;34m=\u001b[0m \u001b[0mxinitial\u001b[0m\u001b[0;34m)\u001b[0m\u001b[0;34m\u001b[0m\u001b[0;34m\u001b[0m\u001b[0m\n\u001b[0m\u001b[1;32m      3\u001b[0m \u001b[0mresult1\u001b[0m\u001b[0;34m.\u001b[0m\u001b[0mx\u001b[0m\u001b[0;34m,\u001b[0m \u001b[0mresult1\u001b[0m\u001b[0;34m.\u001b[0m\u001b[0mfun\u001b[0m\u001b[0;34m\u001b[0m\u001b[0;34m\u001b[0m\u001b[0m\n",
      "\u001b[0;32m~/anaconda3/lib/python3.8/site-packages/scipy/optimize/_differentialevolution.py\u001b[0m in \u001b[0;36mdifferential_evolution\u001b[0;34m(func, bounds, args, strategy, maxiter, popsize, tol, mutation, recombination, seed, callback, disp, polish, init, atol, updating, workers, constraints, x0)\u001b[0m\n\u001b[1;32m    314\u001b[0m     \u001b[0;31m# using a context manager means that any created Pool objects are\u001b[0m\u001b[0;34m\u001b[0m\u001b[0;34m\u001b[0m\u001b[0;34m\u001b[0m\u001b[0m\n\u001b[1;32m    315\u001b[0m     \u001b[0;31m# cleared up.\u001b[0m\u001b[0;34m\u001b[0m\u001b[0;34m\u001b[0m\u001b[0;34m\u001b[0m\u001b[0m\n\u001b[0;32m--> 316\u001b[0;31m     with DifferentialEvolutionSolver(func, bounds, args=args,\n\u001b[0m\u001b[1;32m    317\u001b[0m                                      \u001b[0mstrategy\u001b[0m\u001b[0;34m=\u001b[0m\u001b[0mstrategy\u001b[0m\u001b[0;34m,\u001b[0m\u001b[0;34m\u001b[0m\u001b[0;34m\u001b[0m\u001b[0m\n\u001b[1;32m    318\u001b[0m                                      \u001b[0mmaxiter\u001b[0m\u001b[0;34m=\u001b[0m\u001b[0mmaxiter\u001b[0m\u001b[0;34m,\u001b[0m\u001b[0;34m\u001b[0m\u001b[0;34m\u001b[0m\u001b[0m\n",
      "\u001b[0;32m~/anaconda3/lib/python3.8/site-packages/scipy/optimize/_differentialevolution.py\u001b[0m in \u001b[0;36m__init__\u001b[0;34m(self, func, bounds, args, strategy, maxiter, popsize, tol, mutation, recombination, seed, maxfun, callback, disp, polish, init, atol, updating, workers, constraints, x0)\u001b[0m\n\u001b[1;32m    631\u001b[0m             \u001b[0;31m# scale to within unit interval and\u001b[0m\u001b[0;34m\u001b[0m\u001b[0;34m\u001b[0m\u001b[0;34m\u001b[0m\u001b[0m\n\u001b[1;32m    632\u001b[0m             \u001b[0;31m# ensure parameters are within bounds.\u001b[0m\u001b[0;34m\u001b[0m\u001b[0;34m\u001b[0m\u001b[0;34m\u001b[0m\u001b[0m\n\u001b[0;32m--> 633\u001b[0;31m             \u001b[0mx0_scaled\u001b[0m \u001b[0;34m=\u001b[0m \u001b[0mself\u001b[0m\u001b[0;34m.\u001b[0m\u001b[0m_unscale_parameters\u001b[0m\u001b[0;34m(\u001b[0m\u001b[0mnp\u001b[0m\u001b[0;34m.\u001b[0m\u001b[0masarray\u001b[0m\u001b[0;34m(\u001b[0m\u001b[0mx0\u001b[0m\u001b[0;34m)\u001b[0m\u001b[0;34m)\u001b[0m\u001b[0;34m\u001b[0m\u001b[0;34m\u001b[0m\u001b[0m\n\u001b[0m\u001b[1;32m    634\u001b[0m             \u001b[0;32mif\u001b[0m \u001b[0;34m(\u001b[0m\u001b[0;34m(\u001b[0m\u001b[0mx0_scaled\u001b[0m \u001b[0;34m>\u001b[0m \u001b[0;36m1.0\u001b[0m\u001b[0;34m)\u001b[0m \u001b[0;34m|\u001b[0m \u001b[0;34m(\u001b[0m\u001b[0mx0_scaled\u001b[0m \u001b[0;34m<\u001b[0m \u001b[0;36m0.0\u001b[0m\u001b[0;34m)\u001b[0m\u001b[0;34m)\u001b[0m\u001b[0;34m.\u001b[0m\u001b[0many\u001b[0m\u001b[0;34m(\u001b[0m\u001b[0;34m)\u001b[0m\u001b[0;34m:\u001b[0m\u001b[0;34m\u001b[0m\u001b[0;34m\u001b[0m\u001b[0m\n\u001b[1;32m    635\u001b[0m                 raise ValueError(\n",
      "\u001b[0;32m~/anaconda3/lib/python3.8/site-packages/scipy/optimize/_differentialevolution.py\u001b[0m in \u001b[0;36m_unscale_parameters\u001b[0;34m(self, parameters)\u001b[0m\n\u001b[1;32m   1233\u001b[0m     \u001b[0;32mdef\u001b[0m \u001b[0m_unscale_parameters\u001b[0m\u001b[0;34m(\u001b[0m\u001b[0mself\u001b[0m\u001b[0;34m,\u001b[0m \u001b[0mparameters\u001b[0m\u001b[0;34m)\u001b[0m\u001b[0;34m:\u001b[0m\u001b[0;34m\u001b[0m\u001b[0;34m\u001b[0m\u001b[0m\n\u001b[1;32m   1234\u001b[0m         \u001b[0;34m\"\"\"Scale from parameters to a number between 0 and 1.\"\"\"\u001b[0m\u001b[0;34m\u001b[0m\u001b[0;34m\u001b[0m\u001b[0m\n\u001b[0;32m-> 1235\u001b[0;31m         \u001b[0;32mreturn\u001b[0m \u001b[0;34m(\u001b[0m\u001b[0mparameters\u001b[0m \u001b[0;34m-\u001b[0m \u001b[0mself\u001b[0m\u001b[0;34m.\u001b[0m\u001b[0m__scale_arg1\u001b[0m\u001b[0;34m)\u001b[0m \u001b[0;34m/\u001b[0m \u001b[0mself\u001b[0m\u001b[0;34m.\u001b[0m\u001b[0m__scale_arg2\u001b[0m \u001b[0;34m+\u001b[0m \u001b[0;36m0.5\u001b[0m\u001b[0;34m\u001b[0m\u001b[0;34m\u001b[0m\u001b[0m\n\u001b[0m\u001b[1;32m   1236\u001b[0m \u001b[0;34m\u001b[0m\u001b[0m\n\u001b[1;32m   1237\u001b[0m     \u001b[0;32mdef\u001b[0m \u001b[0m_ensure_constraint\u001b[0m\u001b[0;34m(\u001b[0m\u001b[0mself\u001b[0m\u001b[0;34m,\u001b[0m \u001b[0mtrial\u001b[0m\u001b[0;34m)\u001b[0m\u001b[0;34m:\u001b[0m\u001b[0;34m\u001b[0m\u001b[0;34m\u001b[0m\u001b[0m\n",
      "\u001b[0;31mValueError\u001b[0m: operands could not be broadcast together with shapes (19,) (18,) "
     ]
    }
   ],
   "source": [
    "xinitial = [7, 7, 50, 30, 3, 80, 30, 2, 3, 8, 7, 18, 10, 2, 3, 7, 7, 18, 10]\n",
    "result1 = differential_evolution(Error1, bounds, x0 = xinitial)\n",
    "result1.x, result1.fun"
   ]
  },
  {
   "cell_type": "code",
   "execution_count": 61,
   "id": "d712762a",
   "metadata": {},
   "outputs": [
    {
     "data": {
      "text/plain": [
       "57.445339237275846"
      ]
     },
     "execution_count": 61,
     "metadata": {},
     "output_type": "execute_result"
    }
   ],
   "source": [
    "Error1([7, 7, 50, 30, 3, 80, 30, 2, 3, 8, 7, 18, 10, 2, 3, 7, 7, 18, 10])"
   ]
  },
  {
   "cell_type": "code",
   "execution_count": null,
   "id": "08232c56",
   "metadata": {},
   "outputs": [],
   "source": []
  }
 ],
 "metadata": {
  "kernelspec": {
   "display_name": "Python 3 (ipykernel)",
   "language": "python",
   "name": "python3"
  },
  "language_info": {
   "codemirror_mode": {
    "name": "ipython",
    "version": 3
   },
   "file_extension": ".py",
   "mimetype": "text/x-python",
   "name": "python",
   "nbconvert_exporter": "python",
   "pygments_lexer": "ipython3",
   "version": "3.8.12"
  }
 },
 "nbformat": 4,
 "nbformat_minor": 5
}
