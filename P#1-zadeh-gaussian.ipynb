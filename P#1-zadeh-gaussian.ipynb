{
 "cells": [
  {
   "cell_type": "code",
   "execution_count": 27,
   "id": "804fb407",
   "metadata": {},
   "outputs": [],
   "source": [
    "import numpy as np\n",
    "import skfuzzy as fuzz\n",
    "import matplotlib.pyplot as plt\n",
    "import pandas as pd"
   ]
  },
  {
   "cell_type": "code",
   "execution_count": 15,
   "id": "a55fa939",
   "metadata": {},
   "outputs": [],
   "source": [
    "# Generate universe variables\n",
    "#sources: \"https://github.com/scikit-fuzzy/scikit-fuzzy/blob/master/skfuzzy/membership/generatemf.py\"\n",
    "\n",
    "#   * Light on subjective ranges [0, 100]\n",
    "#   * Motion on subjective ranges [0, 25] in units of percentage points\n",
    "#   * Shutter Speed has a range of [0, 20] in small steps (due to the data)\n",
    "x_light = np.arange(0, 101, 1)\n",
    "x_motion = np.arange(0, 26, 1)\n",
    "x_ss  = np.arange(0, 20, 0.0001)                                        \n",
    "\n",
    "\n",
    "#well this function takes a vector/list of variables for mf boundies with input & spits out a number for sin()\n",
    "def Sh(X, l, m):\n",
    "    light_lo = fuzz.gaussmf(x_light,  X[0], X[1])\n",
    "    light_md = fuzz.gaussmf(x_light,  X[2], X[3])\n",
    "    light_hi = fuzz.gaussmf(x_light,  X[4], X[5])\n",
    "\n",
    "    motion_st = fuzz.gaussmf(x_motion,  X[6], X[7])\n",
    "    motion_mo = fuzz.gaussmf(x_motion,  X[8], X[9])\n",
    "    motion_hi = fuzz.gaussmf(x_motion,  X[10], X[11])\n",
    "\n",
    "    ss_lo = fuzz.gaussmf(x_ss,  X[12], X[13])\n",
    "    ss_md = fuzz.gaussmf(x_ss,  X[14], X[15])\n",
    "    ss_hi = fuzz.gaussmf(x_ss,  X[16], X[17])\n",
    "    \n",
    "    light_level_lo = fuzz.interp_membership(x_light, light_lo, l)\n",
    "    light_level_md = fuzz.interp_membership(x_light, light_md, l)\n",
    "    light_level_hi = fuzz.interp_membership(x_light, light_hi, l)\n",
    "\n",
    "    motion_level_st = fuzz.interp_membership(x_motion, motion_st, m)\n",
    "    motion_level_mo = fuzz.interp_membership(x_motion, motion_mo, m)\n",
    "    motion_level_hi = fuzz.interp_membership(x_motion, motion_hi, m)\n",
    "    \n",
    "    \n",
    "    active_rule1 = np.fmin(light_level_lo, motion_level_st)\n",
    "    \n",
    "    ss_activation_lo = np.fmax(np.fmin(active_rule1, ss_lo), 1-active_rule1)\n",
    "    \n",
    "    \n",
    "    \n",
    "    # For rule 2 & 3 :\n",
    "    active_rule2 = np.fmin(light_level_md, motion_level_st)\n",
    "    ss_activation_md2 = np.fmax(np.fmin(active_rule2, ss_md), 1-active_rule2)\n",
    "\n",
    "    active_rule3 = np.fmin(light_level_hi, motion_level_st)\n",
    "    ss_activation_hi3 = np.fmax(np.fmin(active_rule3, ss_hi), 1-active_rule3)\n",
    "\n",
    "    active_rule4 = np.fmin(light_level_lo, motion_level_mo)\n",
    "    ss_activation_md4 = np.fmax(np.fmin(active_rule4, ss_md), 1-active_rule4)\n",
    "\n",
    "    active_rule5 = np.fmin(light_level_md, motion_level_mo)\n",
    "    ss_activation_hi5 = np.fmax(np.fmin(active_rule5, ss_hi), 1-active_rule5)\n",
    "\n",
    "    active_rule6 = np.fmin(light_level_hi, motion_level_hi)\n",
    "    ss_activation_hi6 = np.fmax(np.fmin(active_rule5, ss_hi), 1-active_rule6)\n",
    "\n",
    "    active_rule7 = np.fmin(light_level_lo, motion_level_hi)\n",
    "    ss_activation_md7 = np.fmax(np.fmin(active_rule7, ss_md), 1-active_rule7)\n",
    "\n",
    "    active_rule8 = np.fmin(light_level_md, motion_level_hi)\n",
    "    ss_activation_hi8 = np.fmax(np.fmin(active_rule8, ss_hi), 1-active_rule8)\n",
    "\n",
    "    active_rule9 = np.fmin(light_level_hi, motion_level_mo)\n",
    "    ss_activation_md9 = np.fmax(np.fmin(active_rule9, ss_md), 1-active_rule9)\n",
    "\n",
    "    ss_activation_md = np.fmax(np.fmax(ss_activation_md2, ss_activation_md4), np.fmax(ss_activation_md7, ss_activation_md9))\n",
    "\n",
    "    ss_activation_hi = np.fmax(np.fmax(ss_activation_hi3, ss_activation_hi5), np.fmax(ss_activation_hi6, ss_activation_hi8))\n",
    "\n",
    "    agg = np.fmin(np.fmin(ss_activation_lo, ss_activation_md), ss_activation_hi)\n",
    "        \n",
    "    ss = fuzz.defuzz(x_ss, agg, 'centroid')\n",
    "    \n",
    "    if agg.sum() == 0:\n",
    "        return 10\n",
    "\n",
    "    y = fuzz.defuzz(x_ss, agg, 'centroid')\n",
    "    \n",
    "    return y"
   ]
  },
  {
   "cell_type": "code",
   "execution_count": 17,
   "id": "c5d89f08",
   "metadata": {},
   "outputs": [
    {
     "data": {
      "text/plain": [
       "9.999950000011266"
      ]
     },
     "execution_count": 17,
     "metadata": {},
     "output_type": "execute_result"
    }
   ],
   "source": [
    "Sh([7, 7, 50, 30, 3, 80, 30, 2, 3, 8, 7, 18, 10, 2, 3, 7, 7, 18, 10], 60, 16)"
   ]
  },
  {
   "cell_type": "code",
   "execution_count": 26,
   "id": "7a823564",
   "metadata": {},
   "outputs": [
    {
     "name": "stdout",
     "output_type": "stream",
     "text": [
      "    Light  Object Motion   Shutter Speed\n",
      "0       0               1       4.045301\n",
      "1       0               4       5.251536\n",
      "2       0               7       7.792990\n",
      "3       0              10       8.102137\n",
      "4       0              13       8.136528\n",
      "5       0              16       8.367064\n",
      "6       0              19       8.367064\n",
      "7       0              22       8.136528\n",
      "8      20               1       6.115055\n",
      "9      20               4       8.628014\n",
      "10     20               7      10.664051\n",
      "11     20              10      11.210927\n",
      "12     20              13      11.230041\n",
      "13     20              16      11.678116\n",
      "14     20              19      11.678116\n",
      "15     20              22      11.230041\n",
      "16     40               1       8.161180\n",
      "17     40               4      10.191205\n",
      "18     40               7      15.258514\n",
      "19     40              10      16.638045\n",
      "20     40              13      16.377959\n",
      "21     40              16      14.995154\n",
      "22     40              19      14.995154\n",
      "23     40              22      16.377959\n",
      "24     60               1       8.171853\n",
      "25     60               4      10.206015\n",
      "26     60               7      15.279696\n",
      "27     60              10      16.660527\n",
      "28     60              13      16.377959\n",
      "29     60              16      14.995154\n",
      "30     60              19      14.995154\n",
      "31     60              22      16.461341\n",
      "32     80               1      12.479939\n",
      "33     80               4      12.479939\n",
      "34     80               7      11.230041\n",
      "35     80              10      11.230041\n",
      "36     80              13      11.230041\n",
      "37     80              16      11.678116\n",
      "38     80              19      14.626119\n",
      "39     80              22      15.682980\n",
      "40    100               1      16.634278\n",
      "41    100               4      13.776946\n",
      "42    100               7       9.031657\n",
      "43    100              10       8.112252\n",
      "44    100              13       8.136528\n",
      "45    100              16       8.526776\n",
      "46    100              19      14.626119\n",
      "47    100              22      16.461341\n"
     ]
    }
   ],
   "source": [
    "data = pd.read_excel (r'Final Project/Data_Camera2.xlsx')\n",
    "print (df)\n",
    "df = pd.DataFrame(data, columns= ['Light','Shutter Speed'])\n",
    "print (df)"
   ]
  },
  {
   "cell_type": "code",
   "execution_count": 31,
   "id": "e76a7547",
   "metadata": {},
   "outputs": [
    {
     "data": {
      "text/plain": [
       "pandas.core.frame.DataFrame"
      ]
     },
     "execution_count": 31,
     "metadata": {},
     "output_type": "execute_result"
    }
   ],
   "source": [
    "type(df)"
   ]
  },
  {
   "cell_type": "code",
   "execution_count": null,
   "id": "f25c4c05",
   "metadata": {},
   "outputs": [],
   "source": []
  },
  {
   "cell_type": "code",
   "execution_count": null,
   "id": "c0280ae7",
   "metadata": {},
   "outputs": [],
   "source": []
  },
  {
   "cell_type": "code",
   "execution_count": null,
   "id": "ada687da",
   "metadata": {},
   "outputs": [],
   "source": []
  },
  {
   "cell_type": "code",
   "execution_count": null,
   "id": "80ff5f76",
   "metadata": {},
   "outputs": [],
   "source": []
  },
  {
   "cell_type": "code",
   "execution_count": null,
   "id": "d712762a",
   "metadata": {},
   "outputs": [],
   "source": []
  },
  {
   "cell_type": "code",
   "execution_count": null,
   "id": "08232c56",
   "metadata": {},
   "outputs": [],
   "source": []
  }
 ],
 "metadata": {
  "kernelspec": {
   "display_name": "Python 3 (ipykernel)",
   "language": "python",
   "name": "python3"
  },
  "language_info": {
   "codemirror_mode": {
    "name": "ipython",
    "version": 3
   },
   "file_extension": ".py",
   "mimetype": "text/x-python",
   "name": "python",
   "nbconvert_exporter": "python",
   "pygments_lexer": "ipython3",
   "version": "3.8.12"
  }
 },
 "nbformat": 4,
 "nbformat_minor": 5
}
