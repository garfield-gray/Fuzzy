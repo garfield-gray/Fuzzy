{
 "cells": [
  {
   "cell_type": "markdown",
   "id": "ea0fc1a7",
   "metadata": {},
   "source": [
    "# Problem2"
   ]
  },
  {
   "cell_type": "markdown",
   "id": "593515b3",
   "metadata": {},
   "source": [
    "$$\n",
    "\\\\it's\\;been\\;decided\\;to\\;tune\\;on\\;[0, \\pi]\\;and\\;miror\\;the\\;next\\;part\\;to\\;make\\;symmetry\n",
    "$$"
   ]
  },
  {
   "cell_type": "code",
   "execution_count": 1,
   "id": "a3a24920",
   "metadata": {},
   "outputs": [],
   "source": [
    "import numpy as np\n",
    "import skfuzzy as fuzz\n",
    "import matplotlib.pyplot as plt"
   ]
  },
  {
   "cell_type": "code",
   "execution_count": 2,
   "id": "cf95c544",
   "metadata": {},
   "outputs": [],
   "source": [
    "from scipy.optimize import differential_evolution, NonlinearConstraint, Bounds, minimize, fmin, rosen "
   ]
  },
  {
   "cell_type": "markdown",
   "id": "59fbc55b",
   "metadata": {},
   "source": [
    "# https://docs.scipy.org/doc/scipy/reference/generated/scipy.optimize.differential_evolution.html#scipy.optimize.differential_evolution"
   ]
  },
  {
   "cell_type": "code",
   "execution_count": 4,
   "id": "ed8a97fd",
   "metadata": {},
   "outputs": [],
   "source": [
    "# Generate universe variables\n",
    "x_in = np.arange(0, np.pi, 0.01)\n",
    "y_out = np.arange(0, 1, 0.01)\n",
    "\n",
    "\n",
    "#well this function takes a vector/list of variables for mf boundies with input & spits out a number for sin()\n",
    "def sin(X, x):\n",
    "    x_lo = fuzz.trapmf(x_in, [X[0], X[1], X[2], X[3]])\n",
    "    x_md = fuzz.trapmf(x_in, [X[4], X[5], X[6], X[7]])\n",
    "    x_hi = fuzz.trapmf(x_in, [X[8], X[9], X[10], X[11]])\n",
    "   \n",
    "    y_lo = fuzz.trapmf(y_out, [X[12], X[13], X[14], X[15]])\n",
    "    y_hi = fuzz.trapmf(y_out, [X[16], X[17], X[18], X[19]])\n",
    "    \n",
    "    x_le_lo = fuzz.interp_membership(x_in, x_lo, x)\n",
    "    x_le_md = fuzz.interp_membership(x_in, x_md, x)\n",
    "    x_le_hi = fuzz.interp_membership(x_in, x_hi, x)\n",
    "\n",
    "    #rule1: if x == lo -> y = lo\n",
    "    y_act_lo1 = np.fmax(np.fmin(x_le_lo, y_lo), 1-x_le_lo)\n",
    "    \n",
    "    #rule2: if x == md -> y = hi\n",
    "    y_act_hi = np.fmax(np.fmin(x_le_md, y_hi), 1-x_le_md)\n",
    "    \n",
    "    #rule3: if x == hi -> y = lo\n",
    "    y_act_lo2 = np.fmax(np.fmin(x_le_hi, y_lo), 1-x_le_hi)\n",
    "    \n",
    "    y_act_lo = np.fmax(y_act_lo1, y_act_lo2)\n",
    "    \n",
    "    agg = np.fmin(y_act_lo, y_act_hi)\n",
    "    \n",
    "    if agg.sum() == 0:\n",
    "        return 1/2\n",
    "\n",
    "    y = fuzz.defuzz(y_out, agg, 'centroid')\n",
    "    \n",
    "    return y\n",
    "# # Generate fuzzy membership functions\n",
    "# x_lo = fuzz.trapmf(x_in, [0, 0, 0.1, 2])\n",
    "# x_md = fuzz.trapmf(x_in, [1, np.pi/2, np.pi/2, 3])\n",
    "# x_hi = fuzz.trapmf(x_in, [2, 2, 3, np.pi])\n"
   ]
  },
  {
   "cell_type": "code",
   "execution_count": 5,
   "id": "ec3db4fe",
   "metadata": {},
   "outputs": [
    {
     "data": {
      "text/plain": [
       "0.6824387596899225"
      ]
     },
     "execution_count": 5,
     "metadata": {},
     "output_type": "execute_result"
    }
   ],
   "source": [
    "sin([0, 0, 0.1, 1.5, 1, 1.6, 1.8, 3, 1.8, 2, np.pi, np.pi, 0, 0, 0.2, 0.6, 0.6, 0.8, 1, 1], 2)"
   ]
  },
  {
   "cell_type": "code",
   "execution_count": 6,
   "id": "a97cb046",
   "metadata": {},
   "outputs": [
    {
     "data": {
      "text/plain": [
       "0.9092974268256817"
      ]
     },
     "execution_count": 6,
     "metadata": {},
     "output_type": "execute_result"
    }
   ],
   "source": [
    "np.sin(2)"
   ]
  },
  {
   "cell_type": "code",
   "execution_count": 7,
   "id": "93924add",
   "metadata": {},
   "outputs": [],
   "source": [
    "def Error1(X):\n",
    "    p4 = np.pi/4\n",
    "    v = np.array([np.sin(p4)-sin(X,p4), np.sin(2*p4)-sin(X,2*p4), np.sin(3*p4)-sin(X,3*p4)])\n",
    "    return np.linalg.norm(v, 2)"
   ]
  },
  {
   "cell_type": "code",
   "execution_count": 8,
   "id": "3a49ef35",
   "metadata": {},
   "outputs": [
    {
     "data": {
      "text/plain": [
       "0.35226711669392463"
      ]
     },
     "execution_count": 8,
     "metadata": {},
     "output_type": "execute_result"
    }
   ],
   "source": [
    "Error1([0, 0, 0.1, 1.5, 1, 1.6, 1.8, 3, 1.9, 2.1, np.pi, np.pi, 0, 0, 0.2, 0.6, 0.7, 0.8, 1, 1])"
   ]
  },
  {
   "cell_type": "code",
   "execution_count": 9,
   "id": "0f211462",
   "metadata": {},
   "outputs": [],
   "source": [
    "#constrains & Bounds\n",
    "bounds = [(0, np.pi), (0, np.pi), (0, np.pi), (0, np.pi), (0, np.pi), (0, np.pi), (0, np.pi), (0, np.pi),\n",
    "          (0, np.pi), (0, np.pi), (0, np.pi), (0, np.pi), \n",
    "         (0, 1), (0, 1), (0, 1), (0, 1), (0, 1), (0, 1), (0, 1), (0, 1)]\n",
    "\n",
    "def c_x_lo_1(x):\n",
    "    return np.array(x[1]-x[0])\n",
    "c1 = NonlinearConstraint(c_x_lo_1, 1e-5, np.inf)\n",
    "def c_x_lo_2(x):\n",
    "    return np.array(x[2]-x[1])\n",
    "c2 = NonlinearConstraint(c_x_lo_2, 1e-5, np.inf)\n",
    "def c_x_lo_3(x):\n",
    "    return np.array(x[3]-x[2])\n",
    "c3 = NonlinearConstraint(c_x_lo_3, 1e-5, np.inf)\n",
    "def c_x_md_1(x):\n",
    "    return np.array(x[5]-x[4])\n",
    "c4 = NonlinearConstraint(c_x_md_1, 1e-5, np.inf)\n",
    "def c_x_md_2(x):\n",
    "    return np.array(x[6]-x[5])\n",
    "c5 = NonlinearConstraint(c_x_md_2, 1e-5, np.inf)\n",
    "def c_x_md_3(x):\n",
    "    return np.array(x[7]-x[6])\n",
    "c6 = NonlinearConstraint(c_x_md_3, 1e-5, np.inf)\n",
    "def c_x_hi_1(x):\n",
    "    return np.array(x[9]-x[8])\n",
    "c7 = NonlinearConstraint(c_x_hi_1, 1e-5, np.inf)\n",
    "def c_x_hi_2(x):\n",
    "    return np.array(x[10]-x[9])\n",
    "c8 = NonlinearConstraint(c_x_hi_2, 1e-5, np.inf)\n",
    "def c_x_hi_3(x):\n",
    "    return np.array(x[11]-x[10])\n",
    "c9 = NonlinearConstraint(c_x_hi_3, 1e-5, np.inf)\n",
    "def c_y_lo_1(x):\n",
    "    return np.array(x[13]-x[12])\n",
    "c10 = NonlinearConstraint(c_y_lo_1, 1e-5, np.inf)\n",
    "def c_y_lo_2(x):\n",
    "    return np.array(x[14]-x[13])\n",
    "c11 = NonlinearConstraint(c_y_lo_2, 1e-5, np.inf)\n",
    "def c_y_lo_3(x):\n",
    "    return np.array(x[15]-x[14])\n",
    "c12 = NonlinearConstraint(c_y_lo_3, 1e-5, np.inf)\n",
    "def c_y_hi_1(x):\n",
    "    return np.array(x[17]-x[16])\n",
    "c13 = NonlinearConstraint(c_y_hi_1, 1e-5, np.inf)\n",
    "def c_y_hi_2(x):\n",
    "    return np.array(x[18]-x[17])\n",
    "c14 = NonlinearConstraint(c_y_hi_2, 1e-5, np.inf)\n",
    "def c_y_hi_3(x):\n",
    "    return np.array(x[19]-x[18])\n",
    "c15 = NonlinearConstraint(c_y_hi_3, 1e-5, np.inf)\n",
    "\n",
    "cs = (c1, c2, c3, c4, c5, c6, c7, c8, c9, c10, c11, c12, c13, c14, c15)"
   ]
  },
  {
   "cell_type": "code",
   "execution_count": 10,
   "id": "5debc3fa",
   "metadata": {},
   "outputs": [
    {
     "name": "stderr",
     "output_type": "stream",
     "text": [
      "/home/garfield/anaconda3/lib/python3.8/site-packages/scipy/optimize/_hessian_update_strategy.py:182: UserWarning: delta_grad == 0.0. Check if the approximated function is linear. If the function is linear better results can be obtained by defining the Hessian as zero instead of using quasi-Newton approximations.\n",
      "  warn('delta_grad == 0.0. Check if the approximated '\n"
     ]
    },
    {
     "data": {
      "text/plain": [
       "(array([0.61977232, 2.54104433, 2.76033065, 3.02438359, 0.15717139,\n",
       "        0.80686436, 2.33446671, 2.96776999, 0.61107011, 1.19787194,\n",
       "        1.53043861, 2.36114921, 0.17683832, 0.45745659, 0.66674135,\n",
       "        0.83618029, 0.95000002, 0.9653928 , 0.98400936, 0.99611173]),\n",
       " 0.027619047619051627)"
      ]
     },
     "execution_count": 10,
     "metadata": {},
     "output_type": "execute_result"
    }
   ],
   "source": [
    "\n",
    "xinitial = [0, 0, 0.1, 1.5, 1, 1.6, 1.8, 3, 1.8, 2, np.pi, np.pi, 0, 0, 0.2, 0.6, 0.6, 0.8, 1, 1]\n",
    "result1 = differential_evolution(Error1, bounds, constraints=cs, x0 = xinitial)\n",
    "result1.x, result1.fun"
   ]
  },
  {
   "cell_type": "code",
   "execution_count": 23,
   "id": "ebaa56b3",
   "metadata": {},
   "outputs": [
    {
     "data": {
      "text/plain": [
       "0.7109963630234845"
      ]
     },
     "execution_count": 23,
     "metadata": {},
     "output_type": "execute_result"
    }
   ],
   "source": [
    "sin(result1.x, 2)"
   ]
  },
  {
   "cell_type": "code",
   "execution_count": 24,
   "id": "4970536d",
   "metadata": {},
   "outputs": [
    {
     "data": {
      "text/plain": [
       "0.9092974268256817"
      ]
     },
     "execution_count": 24,
     "metadata": {},
     "output_type": "execute_result"
    }
   ],
   "source": [
    "np.sin(2)"
   ]
  },
  {
   "cell_type": "code",
   "execution_count": 27,
   "id": "e8ff0752",
   "metadata": {},
   "outputs": [
    {
     "data": {
      "image/png": "[encoded data removed]",
      "text/plain": [
       "<Figure size 720x360 with 1 Axes>"
      ]
     },
     "metadata": {
      "needs_background": "light"
     },
     "output_type": "display_data"
    }
   ],
   "source": [
    "fig, ax0 = plt.subplots(figsize=(10, 5))\n",
    "\n",
    "y_sin = np.sin(x_in)\n",
    "ax0.plot(x_in, y_sin, 'b', linewidth=1.5, linestyle='--', )\n",
    "\n",
    "y_f_sin = np.array([])\n",
    "for i in x_in:\n",
    "    #print(i, sin(result1.x, i))\n",
    "    y_f_sin = np.append(y_f_sin, sin(result1.x, i))\n",
    "    \n",
    "ax0.plot(x_in, y_f_sin, 'r', linewidth=1.5, linestyle='--', )\n",
    "plt.show()"
   ]
  },
  {
   "cell_type": "code",
   "execution_count": 31,
   "id": "e2afb892",
   "metadata": {},
   "outputs": [],
   "source": [
    "def Error2(X):\n",
    "    p4 = np.pi/4\n",
    "    v = np.array([0-sin(X,0), np.sin(p4)-sin(X,p4), np.sin(2*p4)-sin(X,2*p4), np.sin(3*p4)-sin(X,3*p4), 0-sin(X, np.pi)])\n",
    "    return np.linalg.norm(v, 2)"
   ]
  },
  {
   "cell_type": "code",
   "execution_count": 35,
   "id": "f7ae874f",
   "metadata": {},
   "outputs": [
    {
     "ename": "AssertionError",
     "evalue": "Total area is zero in defuzzification!",
     "output_type": "error",
     "traceback": [
      "\u001b[0;31m---------------------------------------------------------------------------\u001b[0m",
      "\u001b[0;31mAssertionError\u001b[0m                            Traceback (most recent call last)",
      "\u001b[0;32m/tmp/ipykernel_3284/597968041.py\u001b[0m in \u001b[0;36m<module>\u001b[0;34m\u001b[0m\n\u001b[0;32m----> 1\u001b[0;31m \u001b[0mresult2\u001b[0m \u001b[0;34m=\u001b[0m \u001b[0mdifferential_evolution\u001b[0m\u001b[0;34m(\u001b[0m\u001b[0mError2\u001b[0m\u001b[0;34m,\u001b[0m \u001b[0mbounds\u001b[0m\u001b[0;34m,\u001b[0m \u001b[0mconstraints\u001b[0m\u001b[0;34m=\u001b[0m\u001b[0mcs\u001b[0m\u001b[0;34m,\u001b[0m \u001b[0mx0\u001b[0m \u001b[0;34m=\u001b[0m \u001b[0mresult1\u001b[0m\u001b[0;34m.\u001b[0m\u001b[0mx\u001b[0m\u001b[0;34m)\u001b[0m\u001b[0;34m\u001b[0m\u001b[0;34m\u001b[0m\u001b[0m\n\u001b[0m\u001b[1;32m      2\u001b[0m \u001b[0mresult2\u001b[0m\u001b[0;34m.\u001b[0m\u001b[0mx\u001b[0m\u001b[0;34m,\u001b[0m \u001b[0mresult2\u001b[0m\u001b[0;34m.\u001b[0m\u001b[0mfun\u001b[0m\u001b[0;34m\u001b[0m\u001b[0;34m\u001b[0m\u001b[0m\n",
      "\u001b[0;32m~/anaconda3/lib/python3.8/site-packages/scipy/optimize/_differentialevolution.py\u001b[0m in \u001b[0;36mdifferential_evolution\u001b[0;34m(func, bounds, args, strategy, maxiter, popsize, tol, mutation, recombination, seed, callback, disp, polish, init, atol, updating, workers, constraints, x0)\u001b[0m\n\u001b[1;32m    327\u001b[0m                                      \u001b[0mconstraints\u001b[0m\u001b[0;34m=\u001b[0m\u001b[0mconstraints\u001b[0m\u001b[0;34m,\u001b[0m\u001b[0;34m\u001b[0m\u001b[0;34m\u001b[0m\u001b[0m\n\u001b[1;32m    328\u001b[0m                                      x0=x0) as solver:\n\u001b[0;32m--> 329\u001b[0;31m         \u001b[0mret\u001b[0m \u001b[0;34m=\u001b[0m \u001b[0msolver\u001b[0m\u001b[0;34m.\u001b[0m\u001b[0msolve\u001b[0m\u001b[0;34m(\u001b[0m\u001b[0;34m)\u001b[0m\u001b[0;34m\u001b[0m\u001b[0;34m\u001b[0m\u001b[0m\n\u001b[0m\u001b[1;32m    330\u001b[0m \u001b[0;34m\u001b[0m\u001b[0m\n\u001b[1;32m    331\u001b[0m     \u001b[0;32mreturn\u001b[0m \u001b[0mret\u001b[0m\u001b[0;34m\u001b[0m\u001b[0;34m\u001b[0m\u001b[0m\n",
      "\u001b[0;32m~/anaconda3/lib/python3.8/site-packages/scipy/optimize/_differentialevolution.py\u001b[0m in \u001b[0;36msolve\u001b[0;34m(self)\u001b[0m\n\u001b[1;32m    850\u001b[0m             \u001b[0;31m# evolve the population by a generation\u001b[0m\u001b[0;34m\u001b[0m\u001b[0;34m\u001b[0m\u001b[0;34m\u001b[0m\u001b[0m\n\u001b[1;32m    851\u001b[0m             \u001b[0;32mtry\u001b[0m\u001b[0;34m:\u001b[0m\u001b[0;34m\u001b[0m\u001b[0;34m\u001b[0m\u001b[0m\n\u001b[0;32m--> 852\u001b[0;31m                 \u001b[0mnext\u001b[0m\u001b[0;34m(\u001b[0m\u001b[0mself\u001b[0m\u001b[0;34m)\u001b[0m\u001b[0;34m\u001b[0m\u001b[0;34m\u001b[0m\u001b[0m\n\u001b[0m\u001b[1;32m    853\u001b[0m             \u001b[0;32mexcept\u001b[0m \u001b[0mStopIteration\u001b[0m\u001b[0;34m:\u001b[0m\u001b[0;34m\u001b[0m\u001b[0;34m\u001b[0m\u001b[0m\n\u001b[1;32m    854\u001b[0m                 \u001b[0mwarning_flag\u001b[0m \u001b[0;34m=\u001b[0m \u001b[0;32mTrue\u001b[0m\u001b[0;34m\u001b[0m\u001b[0;34m\u001b[0m\u001b[0m\n",
      "\u001b[0;32m~/anaconda3/lib/python3.8/site-packages/scipy/optimize/_differentialevolution.py\u001b[0m in \u001b[0;36m__next__\u001b[0;34m(self)\u001b[0m\n\u001b[1;32m   1155\u001b[0m                         \u001b[0;31m# solution is feasible\u001b[0m\u001b[0;34m\u001b[0m\u001b[0;34m\u001b[0m\u001b[0;34m\u001b[0m\u001b[0m\n\u001b[1;32m   1156\u001b[0m                         \u001b[0mfeasible\u001b[0m \u001b[0;34m=\u001b[0m \u001b[0;32mTrue\u001b[0m\u001b[0;34m\u001b[0m\u001b[0;34m\u001b[0m\u001b[0m\n\u001b[0;32m-> 1157\u001b[0;31m                         \u001b[0menergy\u001b[0m \u001b[0;34m=\u001b[0m \u001b[0mself\u001b[0m\u001b[0;34m.\u001b[0m\u001b[0mfunc\u001b[0m\u001b[0;34m(\u001b[0m\u001b[0mparameters\u001b[0m\u001b[0;34m)\u001b[0m\u001b[0;34m\u001b[0m\u001b[0;34m\u001b[0m\u001b[0m\n\u001b[0m\u001b[1;32m   1158\u001b[0m                         \u001b[0mself\u001b[0m\u001b[0;34m.\u001b[0m\u001b[0m_nfev\u001b[0m \u001b[0;34m+=\u001b[0m \u001b[0;36m1\u001b[0m\u001b[0;34m\u001b[0m\u001b[0;34m\u001b[0m\u001b[0m\n\u001b[1;32m   1159\u001b[0m                 \u001b[0;32melse\u001b[0m\u001b[0;34m:\u001b[0m\u001b[0;34m\u001b[0m\u001b[0;34m\u001b[0m\u001b[0m\n",
      "\u001b[0;32m~/anaconda3/lib/python3.8/site-packages/scipy/optimize/_differentialevolution.py\u001b[0m in \u001b[0;36m__call__\u001b[0;34m(self, x)\u001b[0m\n\u001b[1;32m   1344\u001b[0m \u001b[0;34m\u001b[0m\u001b[0m\n\u001b[1;32m   1345\u001b[0m     \u001b[0;32mdef\u001b[0m \u001b[0m__call__\u001b[0m\u001b[0;34m(\u001b[0m\u001b[0mself\u001b[0m\u001b[0;34m,\u001b[0m \u001b[0mx\u001b[0m\u001b[0;34m)\u001b[0m\u001b[0;34m:\u001b[0m\u001b[0;34m\u001b[0m\u001b[0;34m\u001b[0m\u001b[0m\n\u001b[0;32m-> 1346\u001b[0;31m         \u001b[0;32mreturn\u001b[0m \u001b[0mself\u001b[0m\u001b[0;34m.\u001b[0m\u001b[0mf\u001b[0m\u001b[0;34m(\u001b[0m\u001b[0mx\u001b[0m\u001b[0;34m,\u001b[0m \u001b[0;34m*\u001b[0m\u001b[0mself\u001b[0m\u001b[0;34m.\u001b[0m\u001b[0margs\u001b[0m\u001b[0;34m)\u001b[0m\u001b[0;34m\u001b[0m\u001b[0;34m\u001b[0m\u001b[0m\n\u001b[0m\u001b[1;32m   1347\u001b[0m \u001b[0;34m\u001b[0m\u001b[0m\n\u001b[1;32m   1348\u001b[0m \u001b[0;34m\u001b[0m\u001b[0m\n",
      "\u001b[0;32m/tmp/ipykernel_3284/4061084393.py\u001b[0m in \u001b[0;36mError2\u001b[0;34m(X)\u001b[0m\n\u001b[1;32m      1\u001b[0m \u001b[0;32mdef\u001b[0m \u001b[0mError2\u001b[0m\u001b[0;34m(\u001b[0m\u001b[0mX\u001b[0m\u001b[0;34m)\u001b[0m\u001b[0;34m:\u001b[0m\u001b[0;34m\u001b[0m\u001b[0;34m\u001b[0m\u001b[0m\n\u001b[1;32m      2\u001b[0m     \u001b[0mp4\u001b[0m \u001b[0;34m=\u001b[0m \u001b[0mnp\u001b[0m\u001b[0;34m.\u001b[0m\u001b[0mpi\u001b[0m\u001b[0;34m/\u001b[0m\u001b[0;36m4\u001b[0m\u001b[0;34m\u001b[0m\u001b[0;34m\u001b[0m\u001b[0m\n\u001b[0;32m----> 3\u001b[0;31m     \u001b[0mv\u001b[0m \u001b[0;34m=\u001b[0m \u001b[0mnp\u001b[0m\u001b[0;34m.\u001b[0m\u001b[0marray\u001b[0m\u001b[0;34m(\u001b[0m\u001b[0;34m[\u001b[0m\u001b[0;36m0\u001b[0m\u001b[0;34m-\u001b[0m\u001b[0msin\u001b[0m\u001b[0;34m(\u001b[0m\u001b[0mX\u001b[0m\u001b[0;34m,\u001b[0m\u001b[0;36m0\u001b[0m\u001b[0;34m)\u001b[0m\u001b[0;34m,\u001b[0m \u001b[0mnp\u001b[0m\u001b[0;34m.\u001b[0m\u001b[0msin\u001b[0m\u001b[0;34m(\u001b[0m\u001b[0mp4\u001b[0m\u001b[0;34m)\u001b[0m\u001b[0;34m-\u001b[0m\u001b[0msin\u001b[0m\u001b[0;34m(\u001b[0m\u001b[0mX\u001b[0m\u001b[0;34m,\u001b[0m\u001b[0mp4\u001b[0m\u001b[0;34m)\u001b[0m\u001b[0;34m,\u001b[0m \u001b[0mnp\u001b[0m\u001b[0;34m.\u001b[0m\u001b[0msin\u001b[0m\u001b[0;34m(\u001b[0m\u001b[0;36m2\u001b[0m\u001b[0;34m*\u001b[0m\u001b[0mp4\u001b[0m\u001b[0;34m)\u001b[0m\u001b[0;34m-\u001b[0m\u001b[0msin\u001b[0m\u001b[0;34m(\u001b[0m\u001b[0mX\u001b[0m\u001b[0;34m,\u001b[0m\u001b[0;36m2\u001b[0m\u001b[0;34m*\u001b[0m\u001b[0mp4\u001b[0m\u001b[0;34m)\u001b[0m\u001b[0;34m,\u001b[0m \u001b[0mnp\u001b[0m\u001b[0;34m.\u001b[0m\u001b[0msin\u001b[0m\u001b[0;34m(\u001b[0m\u001b[0;36m3\u001b[0m\u001b[0;34m*\u001b[0m\u001b[0mp4\u001b[0m\u001b[0;34m)\u001b[0m\u001b[0;34m-\u001b[0m\u001b[0msin\u001b[0m\u001b[0;34m(\u001b[0m\u001b[0mX\u001b[0m\u001b[0;34m,\u001b[0m\u001b[0;36m3\u001b[0m\u001b[0;34m*\u001b[0m\u001b[0mp4\u001b[0m\u001b[0;34m)\u001b[0m\u001b[0;34m,\u001b[0m \u001b[0;36m0\u001b[0m\u001b[0;34m-\u001b[0m\u001b[0msin\u001b[0m\u001b[0;34m(\u001b[0m\u001b[0mX\u001b[0m\u001b[0;34m,\u001b[0m \u001b[0mnp\u001b[0m\u001b[0;34m.\u001b[0m\u001b[0mpi\u001b[0m\u001b[0;34m)\u001b[0m\u001b[0;34m]\u001b[0m\u001b[0;34m)\u001b[0m\u001b[0;34m\u001b[0m\u001b[0;34m\u001b[0m\u001b[0m\n\u001b[0m\u001b[1;32m      4\u001b[0m     \u001b[0;32mreturn\u001b[0m \u001b[0mnp\u001b[0m\u001b[0;34m.\u001b[0m\u001b[0mlinalg\u001b[0m\u001b[0;34m.\u001b[0m\u001b[0mnorm\u001b[0m\u001b[0;34m(\u001b[0m\u001b[0mv\u001b[0m\u001b[0;34m,\u001b[0m \u001b[0;36m2\u001b[0m\u001b[0;34m)\u001b[0m\u001b[0;34m\u001b[0m\u001b[0;34m\u001b[0m\u001b[0m\n",
      "\u001b[0;32m/tmp/ipykernel_3284/2276140326.py\u001b[0m in \u001b[0;36msin\u001b[0;34m(X, x)\u001b[0m\n\u001b[1;32m     30\u001b[0m     \u001b[0magg\u001b[0m \u001b[0;34m=\u001b[0m \u001b[0mnp\u001b[0m\u001b[0;34m.\u001b[0m\u001b[0mfmin\u001b[0m\u001b[0;34m(\u001b[0m\u001b[0my_act_lo\u001b[0m\u001b[0;34m,\u001b[0m \u001b[0my_act_hi\u001b[0m\u001b[0;34m)\u001b[0m\u001b[0;34m\u001b[0m\u001b[0;34m\u001b[0m\u001b[0m\n\u001b[1;32m     31\u001b[0m \u001b[0;34m\u001b[0m\u001b[0m\n\u001b[0;32m---> 32\u001b[0;31m     \u001b[0my\u001b[0m \u001b[0;34m=\u001b[0m \u001b[0mfuzz\u001b[0m\u001b[0;34m.\u001b[0m\u001b[0mdefuzz\u001b[0m\u001b[0;34m(\u001b[0m\u001b[0my_out\u001b[0m\u001b[0;34m,\u001b[0m \u001b[0magg\u001b[0m\u001b[0;34m,\u001b[0m \u001b[0;34m'centroid'\u001b[0m\u001b[0;34m)\u001b[0m\u001b[0;34m\u001b[0m\u001b[0;34m\u001b[0m\u001b[0m\n\u001b[0m\u001b[1;32m     33\u001b[0m \u001b[0;34m\u001b[0m\u001b[0m\n\u001b[1;32m     34\u001b[0m     \u001b[0;32mreturn\u001b[0m \u001b[0my\u001b[0m\u001b[0;34m\u001b[0m\u001b[0;34m\u001b[0m\u001b[0m\n",
      "\u001b[0;32m~/anaconda3/lib/python3.8/site-packages/skfuzzy/defuzzify/defuzz.py\u001b[0m in \u001b[0;36mdefuzz\u001b[0;34m(x, mfx, mode)\u001b[0m\n\u001b[1;32m    246\u001b[0m     \u001b[0;32mif\u001b[0m \u001b[0;34m'centroid'\u001b[0m \u001b[0;32min\u001b[0m \u001b[0mmode\u001b[0m \u001b[0;32mor\u001b[0m \u001b[0;34m'bisector'\u001b[0m \u001b[0;32min\u001b[0m \u001b[0mmode\u001b[0m\u001b[0;34m:\u001b[0m\u001b[0;34m\u001b[0m\u001b[0;34m\u001b[0m\u001b[0m\n\u001b[1;32m    247\u001b[0m         \u001b[0mzero_truth_degree\u001b[0m \u001b[0;34m=\u001b[0m \u001b[0mmfx\u001b[0m\u001b[0;34m.\u001b[0m\u001b[0msum\u001b[0m\u001b[0;34m(\u001b[0m\u001b[0;34m)\u001b[0m \u001b[0;34m==\u001b[0m \u001b[0;36m0\u001b[0m  \u001b[0;31m# Approximation of total area\u001b[0m\u001b[0;34m\u001b[0m\u001b[0;34m\u001b[0m\u001b[0m\n\u001b[0;32m--> 248\u001b[0;31m         \u001b[0;32massert\u001b[0m \u001b[0;32mnot\u001b[0m \u001b[0mzero_truth_degree\u001b[0m\u001b[0;34m,\u001b[0m \u001b[0;34m'Total area is zero in defuzzification!'\u001b[0m\u001b[0;34m\u001b[0m\u001b[0;34m\u001b[0m\u001b[0m\n\u001b[0m\u001b[1;32m    249\u001b[0m \u001b[0;34m\u001b[0m\u001b[0m\n\u001b[1;32m    250\u001b[0m         \u001b[0;32mif\u001b[0m \u001b[0;34m'centroid'\u001b[0m \u001b[0;32min\u001b[0m \u001b[0mmode\u001b[0m\u001b[0;34m:\u001b[0m\u001b[0;34m\u001b[0m\u001b[0;34m\u001b[0m\u001b[0m\n",
      "\u001b[0;31mAssertionError\u001b[0m: Total area is zero in defuzzification!"
     ]
    }
   ],
   "source": [
    "\n",
    "result2 = differential_evolution(Error2, bounds, constraints=cs, x0 = result1.x)\n",
    "result2.x, result2.fun"
   ]
  },
  {
   "cell_type": "code",
   "execution_count": null,
   "id": "5c9d5fc8",
   "metadata": {},
   "outputs": [],
   "source": []
  },
  {
   "cell_type": "code",
   "execution_count": null,
   "id": "b5d8ed35",
   "metadata": {},
   "outputs": [],
   "source": []
  },
  {
   "cell_type": "code",
   "execution_count": 90,
   "id": "fbdd4b55",
   "metadata": {},
   "outputs": [],
   "source": [
    "def test(X, x):\n",
    "    x_lo = fuzz.trapmf(x_in, [X[0], X[1], X[2], X[3]])\n",
    "    x_md = fuzz.trapmf(x_in, [X[4], X[5], X[6], X[7]])\n",
    "    x_hi = fuzz.trapmf(x_in, [X[8], X[9], X[10], X[11]])\n",
    "   \n",
    "    y_lo = fuzz.trapmf(y_out, [X[12], X[13], X[14], X[15]])\n",
    "    y_hi = fuzz.trapmf(y_out, [X[16], X[17], X[18], X[19]])\n",
    "    \n",
    "    x_le_lo = fuzz.interp_membership(x_in, x_lo, x)\n",
    "    x_le_md = fuzz.interp_membership(x_in, x_md, x)\n",
    "    x_le_hi = fuzz.interp_membership(x_in, x_hi, x)\n",
    "\n",
    "    #rule1: if x == lo -> y = lo\n",
    "    y_act_lo1 = np.fmax(np.fmin(x_le_lo, y_lo), 1-x_le_lo)\n",
    "    print(y_act_lo1)\n",
    "    \n",
    "    #rule2: if x == md -> y = hi\n",
    "    y_act_hi = np.fmax(np.fmin(x_le_md, y_hi), 1-x_le_md)\n",
    "    print(y_act_hi)\n",
    "    \n",
    "    #rule3: if x == hi -> y = lo\n",
    "    y_act_lo2 = np.fmax(np.fmin(x_le_hi, y_lo), 1-x_le_hi)\n",
    "    print(y_act_lo2)\n",
    "    \n",
    "    y_act_lo = np.fmin(y_act_lo1, y_act_lo2)\n",
    "    print(y_act_lo)\n",
    "    \n",
    "    \n",
    "    fig, (ax0, ax1, ax2, ax3) = plt.subplots(nrows=4, figsize=(10, 15))\n",
    "\n",
    "    \n",
    "    y_out0 = np.zeros_like(y_out)\n",
    "    \n",
    "    ax0.fill_between(y_out, y_out0, y_act_lo1, facecolor='b', alpha=0.7)\n",
    "    ax0.plot(y_out, y_lo, 'b', linewidth=0.5, linestyle='--', )\n",
    "    ax0.set_title('Output membership low')\n",
    "    #ax0.legend()\n",
    "\n",
    "    ax1.fill_between(y_out, y_out0, y_act_hi, facecolor='g', alpha=0.7)\n",
    "    ax1.plot(y_out, y_hi, 'g', linewidth=0.5, linestyle='--')\n",
    "    ax1.set_title('Output membership moderete')\n",
    "    #ax1.legend()\n",
    "\n",
    "    ax2.fill_between(y_out, y_out0, y_act_lo2, facecolor='r', alpha=0.7)\n",
    "    ax2.plot(y_out, y_lo, 'r', linewidth=0.5, linestyle='--')\n",
    "    ax2.set_title('Output membership high')\n",
    "    #ax2.legend()\n",
    "\n",
    "    \n",
    "    ax3.fill_between(y_out, y_out0, y_act_lo, facecolor='r', alpha=0.7)\n",
    "    ax3.plot(y_out, y_lo, 'r', linewidth=0.5, linestyle='--')\n",
    "    ax3.set_title('Output membership high')\n",
    "    #ax2.legend()\n",
    "    \n",
    "    \n",
    "    \n",
    "    # Turn off top/right axes\n",
    "    for ax in (ax0,):\n",
    "        ax.spines['top'].set_visible(False)\n",
    "        ax.spines['right'].set_visible(False)\n",
    "        ax.get_xaxis().tick_bottom()\n",
    "        ax.get_yaxis().tick_left()\n",
    "\n",
    "    plt.tight_layout()\n",
    "\n",
    "\n",
    "    \n",
    "    agg = np.fmin(y_act_lo, y_act_hi)\n",
    "    \n",
    "    y = fuzz.defuzz(y_out, agg, 'centroid')\n",
    "    \n",
    "    return y"
   ]
  },
  {
   "cell_type": "code",
   "execution_count": 93,
   "id": "0aea90c9",
   "metadata": {},
   "outputs": [
    {
     "name": "stdout",
     "output_type": "stream",
     "text": [
      "[1. 1. 1. 1. 1. 1. 1. 1. 1. 1. 1. 1. 1. 1. 1. 1. 1. 1. 1. 1. 1. 1. 1. 1.\n",
      " 1. 1. 1. 1. 1. 1. 1. 1. 1. 1. 1. 1. 1. 1. 1. 1. 1. 1. 1. 1. 1. 1. 1. 1.\n",
      " 1. 1. 1. 1. 1. 1. 1. 1. 1. 1. 1. 1. 1. 1. 1. 1. 1. 1. 1. 1. 1. 1. 1. 1.\n",
      " 1. 1. 1. 1. 1. 1. 1. 1. 1. 1. 1. 1. 1. 1. 1. 1. 1. 1. 1. 1. 1. 1. 1. 1.\n",
      " 1. 1. 1. 1.]\n",
      "[1. 1. 1. 1. 1. 1. 1. 1. 1. 1. 1. 1. 1. 1. 1. 1. 1. 1. 1. 1. 1. 1. 1. 1.\n",
      " 1. 1. 1. 1. 1. 1. 1. 1. 1. 1. 1. 1. 1. 1. 1. 1. 1. 1. 1. 1. 1. 1. 1. 1.\n",
      " 1. 1. 1. 1. 1. 1. 1. 1. 1. 1. 1. 1. 1. 1. 1. 1. 1. 1. 1. 1. 1. 1. 1. 1.\n",
      " 1. 1. 1. 1. 1. 1. 1. 1. 1. 1. 1. 1. 1. 1. 1. 1. 1. 1. 1. 1. 1. 1. 1. 1.\n",
      " 1. 1. 1. 1.]\n",
      "[1. 1. 1. 1. 1. 1. 1. 1. 1. 1. 1. 1. 1. 1. 1. 1. 1. 1. 1. 1. 1. 1. 1. 1.\n",
      " 1. 1. 1. 1. 1. 1. 1. 1. 1. 1. 1. 1. 1. 1. 1. 1. 1. 1. 1. 1. 1. 1. 1. 1.\n",
      " 1. 1. 1. 1. 1. 1. 1. 1. 1. 1. 1. 1. 1. 1. 1. 1. 1. 1. 1. 1. 1. 1. 1. 1.\n",
      " 1. 1. 1. 1. 1. 1. 1. 1. 1. 1. 1. 1. 1. 1. 1. 1. 1. 1. 1. 1. 1. 1. 1. 1.\n",
      " 1. 1. 1. 1.]\n",
      "[1. 1. 1. 1. 1. 1. 1. 1. 1. 1. 1. 1. 1. 1. 1. 1. 1. 1. 1. 1. 1. 1. 1. 1.\n",
      " 1. 1. 1. 1. 1. 1. 1. 1. 1. 1. 1. 1. 1. 1. 1. 1. 1. 1. 1. 1. 1. 1. 1. 1.\n",
      " 1. 1. 1. 1. 1. 1. 1. 1. 1. 1. 1. 1. 1. 1. 1. 1. 1. 1. 1. 1. 1. 1. 1. 1.\n",
      " 1. 1. 1. 1. 1. 1. 1. 1. 1. 1. 1. 1. 1. 1. 1. 1. 1. 1. 1. 1. 1. 1. 1. 1.\n",
      " 1. 1. 1. 1.]\n",
      "0.495\n"
     ]
    },
    {
     "data": {
      "image/png": "[encoded data removed]",
      "text/plain": [
       "<Figure size 720x1080 with 4 Axes>"
      ]
     },
     "metadata": {
      "needs_background": "light"
     },
     "output_type": "display_data"
    }
   ],
   "source": [
    "o = print(test(result.x, 3))"
   ]
  },
  {
   "cell_type": "markdown",
   "id": "2281cc2d",
   "metadata": {},
   "source": [
    "$$\n",
    "maybe\n",
    "\\\\you'd\\;better\\;read\\;zadeh\\;inference\\;system\\;again\n",
    "$$"
   ]
  },
  {
   "cell_type": "code",
   "execution_count": null,
   "id": "1a3afcd3",
   "metadata": {},
   "outputs": [],
   "source": []
  }
 ],
 "metadata": {
  "kernelspec": {
   "display_name": "Python 3 (ipykernel)",
   "language": "python",
   "name": "python3"
  },
  "language_info": {
   "codemirror_mode": {
    "name": "ipython",
    "version": 3
   },
   "file_extension": ".py",
   "mimetype": "text/x-python",
   "name": "python",
   "nbconvert_exporter": "python",
   "pygments_lexer": "ipython3",
   "version": "3.8.12"
  }
 },
 "nbformat": 4,
 "nbformat_minor": 5
}
