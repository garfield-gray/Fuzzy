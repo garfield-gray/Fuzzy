{
 "cells": [
  {
   "cell_type": "markdown",
   "id": "e4cc7eab",
   "metadata": {},
   "source": [
    "# Problem2"
   ]
  },
  {
   "cell_type": "markdown",
   "id": "03a7e9b2",
   "metadata": {},
   "source": [
    "$$\n",
    "\\\\it's\\;been\\;decided\\;to\\;tune\\;on\\;[0, \\pi]\\;and\\;miror\\;the\\;next\\;part\\;to\\;make\\;symmetry\n",
    "$$"
   ]
  },
  {
   "cell_type": "code",
   "execution_count": 2,
   "id": "cdfd2128",
   "metadata": {},
   "outputs": [],
   "source": [
    "import numpy as np\n",
    "import skfuzzy as fuzz\n",
    "import matplotlib.pyplot as plt"
   ]
  },
  {
   "cell_type": "code",
   "execution_count": null,
   "id": "7689b9f8",
   "metadata": {},
   "outputs": [],
   "source": []
  },
  {
   "cell_type": "code",
   "execution_count": 14,
   "id": "2ea62190",
   "metadata": {},
   "outputs": [
    {
     "data": {
      "text/plain": [
       "1"
      ]
     },
     "execution_count": 14,
     "metadata": {},
     "output_type": "execute_result"
    }
   ],
   "source": [
    "L = [1,2 ,4]\n",
    "L[0]"
   ]
  },
  {
   "cell_type": "code",
   "execution_count": 74,
   "id": "d46cb3a3",
   "metadata": {},
   "outputs": [],
   "source": [
    "# Generate universe variables\n",
    "x_in = np.arange(0, np.pi, 0.01)\n",
    "y_out = np.arange(0, 1, 0.01)\n",
    "\n",
    "\n",
    "#well this function takes a vector/list of variables for mf boundies with input & spits out a number for sin()\n",
    "def sin(X, x):\n",
    "    x_lo = fuzz.trapmf(x_in, [X[0], X[1], X[2], X[3]])\n",
    "    x_md = fuzz.trapmf(x_in, [X[4], X[5], X[6], X[7]])\n",
    "    x_hi = fuzz.trapmf(x_in, [X[8], X[9], X[10], X[11]])\n",
    "   \n",
    "    y_lo = fuzz.trapmf(y_out, [X[12], X[13], X[14], X[15]])\n",
    "    y_hi = fuzz.trapmf(y_out, [X[16], X[17], X[18], X[19]])\n",
    "    \n",
    "    x_le_lo = fuzz.interp_membership(x_in, x_lo, x)\n",
    "    x_le_md = fuzz.interp_membership(x_in, x_md, x)\n",
    "    x_le_hi = fuzz.interp_membership(x_in, x_hi, x)\n",
    "\n",
    "    #rule1: if x == lo -> y = lo\n",
    "    y_act_lo1 = np.fmax(np.fmin(x_le_lo, y_lo), 1-x_le_lo)\n",
    "    \n",
    "    #rule2: if x == md -> y = hi\n",
    "    y_act_hi = np.fmax(np.fmin(x_le_md, y_hi), 1-x_le_md)\n",
    "    \n",
    "    #rule3: if x == hi -> y = lo\n",
    "    y_act_lo2 = np.fmax(np.fmin(x_le_hi, y_lo), 1-x_le_hi)\n",
    "    \n",
    "    y_act_lo = np.fmin(y_act_lo1, y_act_lo2)\n",
    "    \n",
    "    print(y_act_lo1)\n",
    "    print(y_act_lo2)\n",
    "    print(y_act_hi) \n",
    "    \n",
    "    agg = np.fmin(y_act_lo, y_act_hi)\n",
    "    print(agg)\n",
    "    y = fuzz.defuzz(y_out, agg, 'centroid')\n",
    "    \n",
    "    return y\n",
    "# # Generate fuzzy membership functions\n",
    "# x_lo = fuzz.trapmf(x_in, [0, 0, 0.1, 2])\n",
    "# x_md = fuzz.trapmf(x_in, [1, np.pi/2, np.pi/2, 3])\n",
    "# x_hi = fuzz.trapmf(x_in, [2, 2, 3, np.pi])\n",
    "\n",
    "\n",
    "# Visualize these universes and membership functions\n",
    "# fig, (ax0, ax1) = plt.subplots(nrows=2, figsize=(10, 15))\n",
    "\n",
    "# ax0.plot(x, x_lo, 'b', linewidth=1.5, label='Low')\n",
    "# ax0.plot(x, x_md, 'g', linewidth=1.5, label='Moderete')\n",
    "# ax0.plot(x, x_hi, 'r', linewidth=1.5, label='High')\n",
    "# ax0.set_title('light shineness')\n",
    "# ax0.legend()\n",
    "\n",
    "# ax1.plot(x_motion, motion_st, 'b', linewidth=1.5, label='Static')\n",
    "# ax1.plot(x_motion, motion_mo, 'g', linewidth=1.5, label='Mobile')\n",
    "# ax1.plot(x_motion, motion_hi, 'r', linewidth=1.5, label='Highly Mobile')\n",
    "# ax1.set_title('Object Motion')\n",
    "# ax1.legend()\n",
    "\n",
    "\n",
    "# # Turn off top/right axes\n",
    "# for ax in (ax0, ax1, ax2):\n",
    "#     ax.spines['top'].set_visible(False)\n",
    "#     ax.spines['right'].set_visible(False)\n",
    "#     ax.get_xaxis().tick_bottom()\n",
    "#     ax.get_yaxis().tick_left()\n",
    "\n",
    "# plt.tight_layout()"
   ]
  },
  {
   "cell_type": "code",
   "execution_count": 75,
   "id": "e376db33",
   "metadata": {},
   "outputs": [
    {
     "name": "stdout",
     "output_type": "stream",
     "text": [
      "[1. 1. 1. 1. 1. 1. 1. 1. 1. 1. 1. 1. 1. 1. 1. 1. 1. 1. 1. 1. 1. 1. 1. 1.\n",
      " 1. 1. 1. 1. 1. 1. 1. 1. 1. 1. 1. 1. 1. 1. 1. 1. 1. 1. 1. 1. 1. 1. 1. 1.\n",
      " 1. 1. 1. 1. 1. 1. 1. 1. 1. 1. 1. 1. 1. 1. 1. 1. 1. 1. 1. 1. 1. 1. 1. 1.\n",
      " 1. 1. 1. 1. 1. 1. 1. 1. 1. 1. 1. 1. 1. 1. 1. 1. 1. 1. 1. 1. 1. 1. 1. 1.\n",
      " 1. 1. 1. 1.]\n",
      "[1. 1. 1. 1. 1. 1. 1. 1. 1. 1. 1. 1. 1. 1. 1. 1. 1. 1. 1. 1. 1. 1. 1. 1.\n",
      " 1. 1. 1. 1. 1. 1. 1. 1. 1. 1. 1. 1. 1. 1. 1. 1. 1. 1. 1. 1. 1. 1. 1. 1.\n",
      " 1. 1. 1. 1. 1. 1. 1. 1. 1. 1. 1. 1. 1. 1. 1. 1. 1. 1. 1. 1. 1. 1. 1. 1.\n",
      " 1. 1. 1. 1. 1. 1. 1. 1. 1. 1. 1. 1. 1. 1. 1. 1. 1. 1. 1. 1. 1. 1. 1. 1.\n",
      " 1. 1. 1. 1.]\n",
      "[0.  0.  0.  0.  0.  0.  0.  0.  0.  0.  0.  0.  0.  0.  0.  0.  0.  0.\n",
      " 0.  0.  0.  0.  0.  0.  0.  0.  0.  0.  0.  0.  0.  0.  0.  0.  0.  0.\n",
      " 0.  0.  0.  0.  0.  0.1 0.2 0.3 0.4 0.5 0.6 0.7 0.8 0.9 1.  1.  1.  1.\n",
      " 1.  1.  1.  1.  1.  1.  1.  1.  1.  1.  1.  1.  1.  1.  1.  1.  1.  1.\n",
      " 1.  1.  1.  1.  1.  1.  1.  1.  1.  1.  1.  1.  1.  1.  1.  1.  1.  1.\n",
      " 1.  1.  1.  1.  1.  1.  1.  1.  1.  1. ]\n",
      "[0.  0.  0.  0.  0.  0.  0.  0.  0.  0.  0.  0.  0.  0.  0.  0.  0.  0.\n",
      " 0.  0.  0.  0.  0.  0.  0.  0.  0.  0.  0.  0.  0.  0.  0.  0.  0.  0.\n",
      " 0.  0.  0.  0.  0.  0.1 0.2 0.3 0.4 0.5 0.6 0.7 0.8 0.9 1.  1.  1.  1.\n",
      " 1.  1.  1.  1.  1.  1.  1.  1.  1.  1.  1.  1.  1.  1.  1.  1.  1.  1.\n",
      " 1.  1.  1.  1.  1.  1.  1.  1.  1.  1.  1.  1.  1.  1.  1.  1.  1.  1.\n",
      " 1.  1.  1.  1.  1.  1.  1.  1.  1.  1. ]\n"
     ]
    },
    {
     "data": {
      "text/plain": [
       "0.7192283950617284"
      ]
     },
     "execution_count": 75,
     "metadata": {},
     "output_type": "execute_result"
    }
   ],
   "source": [
    "sin([0, 0, 0.1, 1.5, 1, 1.6, 1.8, 3, 1.8, 2, np.pi, np.pi, 0, 0, 0.2, 0.6, 0.4, 0.5, 1, 1], 1.7)"
   ]
  },
  {
   "cell_type": "code",
   "execution_count": 63,
   "id": "9974b78d",
   "metadata": {},
   "outputs": [
    {
     "data": {
      "text/plain": [
       "0.9916648104524686"
      ]
     },
     "execution_count": 63,
     "metadata": {},
     "output_type": "execute_result"
    }
   ],
   "source": [
    "np.sin(1.7)"
   ]
  },
  {
   "cell_type": "code",
   "execution_count": null,
   "id": "020cdcec",
   "metadata": {},
   "outputs": [],
   "source": []
  }
 ],
 "metadata": {
  "kernelspec": {
   "display_name": "Python 3 (ipykernel)",
   "language": "python",
   "name": "python3"
  },
  "language_info": {
   "codemirror_mode": {
    "name": "ipython",
    "version": 3
   },
   "file_extension": ".py",
   "mimetype": "text/x-python",
   "name": "python",
   "nbconvert_exporter": "python",
   "pygments_lexer": "ipython3",
   "version": "3.8.12"
  }
 },
 "nbformat": 4,
 "nbformat_minor": 5
}
