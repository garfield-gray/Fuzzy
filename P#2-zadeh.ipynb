{
 "cells": [
  {
   "cell_type": "markdown",
   "id": "ea0fc1a7",
   "metadata": {},
   "source": [
    "# Problem2"
   ]
  },
  {
   "cell_type": "markdown",
   "id": "593515b3",
   "metadata": {},
   "source": [
    "$$\n",
    "\\\\it's\\;been\\;decided\\;to\\;tune\\;on\\;[0, \\pi]\\;and\\;miror\\;the\\;next\\;part\\;to\\;make\\;symmetry\n",
    "$$"
   ]
  },
  {
   "cell_type": "code",
   "execution_count": 1,
   "id": "a3a24920",
   "metadata": {},
   "outputs": [],
   "source": [
    "import numpy as np\n",
    "import skfuzzy as fuzz\n",
    "import matplotlib.pyplot as plt"
   ]
  },
  {
   "cell_type": "code",
   "execution_count": 28,
   "id": "cf95c544",
   "metadata": {},
   "outputs": [],
   "source": [
    "from scipy.optimize import differential_evolution, NonlinearConstraint, Bounds, minimize, fmin, rosen "
   ]
  },
  {
   "cell_type": "code",
   "execution_count": 3,
   "id": "5bba7119",
   "metadata": {},
   "outputs": [],
   "source": [
    "# https://docs.scipy.org/doc/scipy/reference/generated/scipy.optimize.differential_evolution.html#scipy.optimize.differential_evolution"
   ]
  },
  {
   "cell_type": "code",
   "execution_count": 4,
   "id": "ed8a97fd",
   "metadata": {},
   "outputs": [],
   "source": [
    "# Generate universe variables\n",
    "x_in = np.arange(0, np.pi, 0.01)\n",
    "y_out = np.arange(0, 1, 0.01)\n",
    "\n",
    "\n",
    "#well this function takes a vector/list of variables for mf boundies with input & spits out a number for sin()\n",
    "def sin(X, x):\n",
    "    x_lo = fuzz.trapmf(x_in, [X[0], X[1], X[2], X[3]])\n",
    "    x_md = fuzz.trapmf(x_in, [X[4], X[5], X[6], X[7]])\n",
    "    x_hi = fuzz.trapmf(x_in, [X[8], X[9], X[10], X[11]])\n",
    "   \n",
    "    y_lo = fuzz.trapmf(y_out, [X[12], X[13], X[14], X[15]])\n",
    "    y_hi = fuzz.trapmf(y_out, [X[16], X[17], X[18], X[19]])\n",
    "    \n",
    "    x_le_lo = fuzz.interp_membership(x_in, x_lo, x)\n",
    "    x_le_md = fuzz.interp_membership(x_in, x_md, x)\n",
    "    x_le_hi = fuzz.interp_membership(x_in, x_hi, x)\n",
    "\n",
    "    #rule1: if x == lo -> y = lo\n",
    "    y_act_lo1 = np.fmax(np.fmin(x_le_lo, y_lo), 1-x_le_lo)\n",
    "    \n",
    "    #rule2: if x == md -> y = hi\n",
    "    y_act_hi = np.fmax(np.fmin(x_le_md, y_hi), 1-x_le_md)\n",
    "    \n",
    "    #rule3: if x == hi -> y = lo\n",
    "    y_act_lo2 = np.fmax(np.fmin(x_le_hi, y_lo), 1-x_le_hi)\n",
    "    \n",
    "    y_act_lo = np.fmin(y_act_lo1, y_act_lo2)\n",
    "    \n",
    "    agg = np.fmin(y_act_lo, y_act_hi)\n",
    "    \n",
    "    y = fuzz.defuzz(y_out, agg, 'centroid')\n",
    "    \n",
    "    return y\n",
    "# # Generate fuzzy membership functions\n",
    "# x_lo = fuzz.trapmf(x_in, [0, 0, 0.1, 2])\n",
    "# x_md = fuzz.trapmf(x_in, [1, np.pi/2, np.pi/2, 3])\n",
    "# x_hi = fuzz.trapmf(x_in, [2, 2, 3, np.pi])\n"
   ]
  },
  {
   "cell_type": "code",
   "execution_count": 5,
   "id": "ec3db4fe",
   "metadata": {},
   "outputs": [
    {
     "data": {
      "text/plain": [
       "0.2835863489261548"
      ]
     },
     "execution_count": 5,
     "metadata": {},
     "output_type": "execute_result"
    }
   ],
   "source": [
    "sin([0, 0, 0.1, 1.5, 1, 1.6, 1.8, 3, 1.8, 2, np.pi, np.pi, 0, 0, 0.2, 0.6, 0.6, 0.8, 1, 1], 2)"
   ]
  },
  {
   "cell_type": "code",
   "execution_count": 6,
   "id": "a97cb046",
   "metadata": {},
   "outputs": [
    {
     "data": {
      "text/plain": [
       "0.9092974268256817"
      ]
     },
     "execution_count": 6,
     "metadata": {},
     "output_type": "execute_result"
    }
   ],
   "source": [
    "np.sin(2)"
   ]
  },
  {
   "cell_type": "code",
   "execution_count": 10,
   "id": "93924add",
   "metadata": {},
   "outputs": [],
   "source": [
    "def Error(X):\n",
    "    p4 = np.pi/4\n",
    "    v = np.array([np.sin(p4)-sin(X,p4), np.sin(2*p4)-sin(X,2*p4), np.sin(3*p4)-sin(X,3*p4)])\n",
    "    return np.linalg.norm(v, 2)"
   ]
  },
  {
   "cell_type": "code",
   "execution_count": 27,
   "id": "86ac82d4",
   "metadata": {},
   "outputs": [
    {
     "data": {
      "text/plain": [
       "0.5385113621733931"
      ]
     },
     "execution_count": 27,
     "metadata": {},
     "output_type": "execute_result"
    }
   ],
   "source": [
    "Error([0, 0, 0.1, 1.5, 1, 1.6, 1.8, 3, 1.9, 2.1, np.pi, np.pi, 0, 0, 0.2, 0.6, 0.7, 0.8, 1, 1])"
   ]
  },
  {
   "cell_type": "code",
   "execution_count": 12,
   "id": "7f9a75ed",
   "metadata": {},
   "outputs": [],
   "source": [
    "def ros(X):\n",
    "    return 1+ X[0]**2 + X[1]**2 + X[2]**2 + X[3]**2"
   ]
  },
  {
   "cell_type": "code",
   "execution_count": 13,
   "id": "912f61b1",
   "metadata": {},
   "outputs": [
    {
     "data": {
      "text/plain": [
       "31"
      ]
     },
     "execution_count": 13,
     "metadata": {},
     "output_type": "execute_result"
    }
   ],
   "source": [
    "ros([1,2,3,4])"
   ]
  },
  {
   "cell_type": "code",
   "execution_count": 31,
   "id": "2a9c5324",
   "metadata": {},
   "outputs": [],
   "source": [
    "#constrains & Bounds\n",
    "bounds = [(0, np.pi), (0, np.pi), (0, np.pi), (0, np.pi), (0, np.pi), (0, np.pi), (0, np.pi), (0, np.pi),\n",
    "          (0, np.pi), (0, np.pi), (0, np.pi), (0, np.pi), \n",
    "         (0, 1), (0, 1), (0, 1), (0, 1), (0, 1), (0, 1), (0, 1), (0, 1)]\n",
    "\n",
    "def c_x_lo_1(x):\n",
    "    return np.array(x[1]-x[0])\n",
    "c1 = NonlinearConstraint(c_x_lo_1, 0, np.inf)\n",
    "def c_x_lo_2(x):\n",
    "    return np.array(x[2]-x[1])\n",
    "c2 = NonlinearConstraint(c_x_lo_2, 0, np.inf)\n",
    "def c_x_lo_3(x):\n",
    "    return np.array(x[3]-x[2])\n",
    "c3 = NonlinearConstraint(c_x_lo_3, 0, np.inf)\n",
    "def c_x_md_1(x):\n",
    "    return np.array(x[5]-x[4])\n",
    "c4 = NonlinearConstraint(c_x_md_1, 0, np.inf)\n",
    "def c_x_md_2(x):\n",
    "    return np.array(x[6]-x[5])\n",
    "c5 = NonlinearConstraint(c_x_md_2, 0, np.inf)\n",
    "def c_x_md_3(x):\n",
    "    return np.array(x[7]-x[6])\n",
    "c6 = NonlinearConstraint(c_x_md_3, 0, np.inf)\n",
    "def c_x_hi_1(x):\n",
    "    return np.array(x[9]-x[8])\n",
    "c7 = NonlinearConstraint(c_x_hi_1, 0, np.inf)\n",
    "def c_x_hi_2(x):\n",
    "    return np.array(x[10]-x[9])\n",
    "c8 = NonlinearConstraint(c_x_hi_2, 0, np.inf)\n",
    "def c_x_hi_3(x):\n",
    "    return np.array(x[11]-x[10])\n",
    "c9 = NonlinearConstraint(c_x_hi_3, 0, np.inf)\n",
    "def c_y_lo_1(x):\n",
    "    return np.array(x[13]-x[12])\n",
    "c10 = NonlinearConstraint(c_y_lo_1, 0, np.inf)\n",
    "def c_y_lo_2(x):\n",
    "    return np.array(x[14]-x[13])\n",
    "c11 = NonlinearConstraint(c_y_lo_2, 0, np.inf)\n",
    "def c_y_lo_3(x):\n",
    "    return np.array(x[15]-x[14])\n",
    "c12 = NonlinearConstraint(c_y_lo_3, 0, np.inf)\n",
    "def c_y_hi_1(x):\n",
    "    return np.array(x[17]-x[16])\n",
    "c13 = NonlinearConstraint(c_y_hi_1, 0, np.inf)\n",
    "def c_y_hi_2(x):\n",
    "    return np.array(x[18]-x[17])\n",
    "c14 = NonlinearConstraint(c_y_hi_2, 0, np.inf)\n",
    "def c_y_hi_3(x):\n",
    "    return np.array(x[19]-x[18])\n",
    "c15 = NonlinearConstraint(c_y_hi_3, 0, np.inf)\n",
    "cs = (c1, c2, c3, c4, c5, c6, c7, c8, c9, c10, c11, c12, c13, c14, c15)"
   ]
  },
  {
   "cell_type": "code",
   "execution_count": 32,
   "id": "5debc3fa",
   "metadata": {},
   "outputs": [
    {
     "name": "stderr",
     "output_type": "stream",
     "text": [
      "/home/garfield/anaconda3/lib/python3.8/site-packages/scipy/optimize/_hessian_update_strategy.py:182: UserWarning: delta_grad == 0.0. Check if the approximated function is linear. If the function is linear better results can be obtained by defining the Hessian as zero instead of using quasi-Newton approximations.\n",
      "  warn('delta_grad == 0.0. Check if the approximated '\n"
     ]
    },
    {
     "data": {
      "text/plain": [
       "(array([0.15152133, 0.33181635, 0.51276816, 1.03398832, 1.00416996,\n",
       "        1.38684753, 2.32284889, 2.73524361, 0.95622366, 1.6161204 ,\n",
       "        2.01839076, 2.46126673, 0.08689835, 0.23172907, 0.36343185,\n",
       "        0.57481443, 0.7206231 , 0.77366486, 0.85284643, 0.98939125]),\n",
       " 0.25693245537557047)"
      ]
     },
     "execution_count": 32,
     "metadata": {},
     "output_type": "execute_result"
    }
   ],
   "source": [
    "\n",
    "xinitial = [0, 0, 0.1, 1.5, 1, 1.6, 1.8, 3, 1.8, 2, np.pi, np.pi, 0, 0, 0.2, 0.6, 0.6, 0.8, 1, 1]\n",
    "\n",
    "result = differential_evolution(Error, bounds, constraints=(cs), x0 = xinitial)\n",
    "result.x, result.fun"
   ]
  },
  {
   "cell_type": "code",
   "execution_count": 38,
   "id": "ebaa56b3",
   "metadata": {},
   "outputs": [
    {
     "data": {
      "text/plain": [
       "0.495"
      ]
     },
     "execution_count": 38,
     "metadata": {},
     "output_type": "execute_result"
    }
   ],
   "source": [
    "sin(result.x, 3)"
   ]
  },
  {
   "cell_type": "code",
   "execution_count": 37,
   "id": "4970536d",
   "metadata": {},
   "outputs": [
    {
     "data": {
      "text/plain": [
       "0.1411200080598672"
      ]
     },
     "execution_count": 37,
     "metadata": {},
     "output_type": "execute_result"
    }
   ],
   "source": [
    "np.sin(3)"
   ]
  },
  {
   "cell_type": "code",
   "execution_count": 75,
   "id": "e8ff0752",
   "metadata": {},
   "outputs": [
    {
     "ename": "AssertionError",
     "evalue": "Total area is zero in defuzzification!",
     "output_type": "error",
     "traceback": [
      "\u001b[0;31m---------------------------------------------------------------------------\u001b[0m",
      "\u001b[0;31mAssertionError\u001b[0m                            Traceback (most recent call last)",
      "\u001b[0;32m/tmp/ipykernel_7884/1002770718.py\u001b[0m in \u001b[0;36m<module>\u001b[0;34m\u001b[0m\n\u001b[1;32m      6\u001b[0m \u001b[0my_f_sin\u001b[0m \u001b[0;34m=\u001b[0m \u001b[0mnp\u001b[0m\u001b[0;34m.\u001b[0m\u001b[0marray\u001b[0m\u001b[0;34m(\u001b[0m\u001b[0;34m[\u001b[0m\u001b[0;34m]\u001b[0m\u001b[0;34m)\u001b[0m\u001b[0;34m\u001b[0m\u001b[0;34m\u001b[0m\u001b[0m\n\u001b[1;32m      7\u001b[0m \u001b[0;32mfor\u001b[0m \u001b[0mi\u001b[0m \u001b[0;32min\u001b[0m \u001b[0mx_in\u001b[0m\u001b[0;34m:\u001b[0m\u001b[0;34m\u001b[0m\u001b[0;34m\u001b[0m\u001b[0m\n\u001b[0;32m----> 8\u001b[0;31m     \u001b[0mnp\u001b[0m\u001b[0;34m.\u001b[0m\u001b[0mappend\u001b[0m\u001b[0;34m(\u001b[0m\u001b[0my_f_sin\u001b[0m\u001b[0;34m,\u001b[0m \u001b[0msin\u001b[0m\u001b[0;34m(\u001b[0m\u001b[0mresult\u001b[0m\u001b[0;34m.\u001b[0m\u001b[0mx\u001b[0m\u001b[0;34m,\u001b[0m \u001b[0mi\u001b[0m\u001b[0;34m)\u001b[0m\u001b[0;34m)\u001b[0m\u001b[0;34m\u001b[0m\u001b[0;34m\u001b[0m\u001b[0m\n\u001b[0m\u001b[1;32m      9\u001b[0m \u001b[0;34m\u001b[0m\u001b[0m\n\u001b[1;32m     10\u001b[0m \u001b[0max0\u001b[0m\u001b[0;34m.\u001b[0m\u001b[0mplot\u001b[0m\u001b[0;34m(\u001b[0m\u001b[0mx_in\u001b[0m\u001b[0;34m,\u001b[0m \u001b[0my_f_sin\u001b[0m\u001b[0;34m,\u001b[0m \u001b[0;34m'b'\u001b[0m\u001b[0;34m,\u001b[0m \u001b[0mlinewidth\u001b[0m\u001b[0;34m=\u001b[0m\u001b[0;36m0.5\u001b[0m\u001b[0;34m,\u001b[0m \u001b[0mlinestyle\u001b[0m\u001b[0;34m=\u001b[0m\u001b[0;34m'--'\u001b[0m\u001b[0;34m,\u001b[0m \u001b[0;34m)\u001b[0m\u001b[0;34m\u001b[0m\u001b[0;34m\u001b[0m\u001b[0m\n",
      "\u001b[0;32m/tmp/ipykernel_7884/2514393442.py\u001b[0m in \u001b[0;36msin\u001b[0;34m(X, x)\u001b[0m\n\u001b[1;32m     30\u001b[0m     \u001b[0magg\u001b[0m \u001b[0;34m=\u001b[0m \u001b[0mnp\u001b[0m\u001b[0;34m.\u001b[0m\u001b[0mfmin\u001b[0m\u001b[0;34m(\u001b[0m\u001b[0my_act_lo\u001b[0m\u001b[0;34m,\u001b[0m \u001b[0my_act_hi\u001b[0m\u001b[0;34m)\u001b[0m\u001b[0;34m\u001b[0m\u001b[0;34m\u001b[0m\u001b[0m\n\u001b[1;32m     31\u001b[0m \u001b[0;34m\u001b[0m\u001b[0m\n\u001b[0;32m---> 32\u001b[0;31m     \u001b[0my\u001b[0m \u001b[0;34m=\u001b[0m \u001b[0mfuzz\u001b[0m\u001b[0;34m.\u001b[0m\u001b[0mdefuzz\u001b[0m\u001b[0;34m(\u001b[0m\u001b[0my_out\u001b[0m\u001b[0;34m,\u001b[0m \u001b[0magg\u001b[0m\u001b[0;34m,\u001b[0m \u001b[0;34m'centroid'\u001b[0m\u001b[0;34m)\u001b[0m\u001b[0;34m\u001b[0m\u001b[0;34m\u001b[0m\u001b[0m\n\u001b[0m\u001b[1;32m     33\u001b[0m \u001b[0;34m\u001b[0m\u001b[0m\n\u001b[1;32m     34\u001b[0m     \u001b[0;32mreturn\u001b[0m \u001b[0my\u001b[0m\u001b[0;34m\u001b[0m\u001b[0;34m\u001b[0m\u001b[0m\n",
      "\u001b[0;32m~/anaconda3/lib/python3.8/site-packages/skfuzzy/defuzzify/defuzz.py\u001b[0m in \u001b[0;36mdefuzz\u001b[0;34m(x, mfx, mode)\u001b[0m\n\u001b[1;32m    246\u001b[0m     \u001b[0;32mif\u001b[0m \u001b[0;34m'centroid'\u001b[0m \u001b[0;32min\u001b[0m \u001b[0mmode\u001b[0m \u001b[0;32mor\u001b[0m \u001b[0;34m'bisector'\u001b[0m \u001b[0;32min\u001b[0m \u001b[0mmode\u001b[0m\u001b[0;34m:\u001b[0m\u001b[0;34m\u001b[0m\u001b[0;34m\u001b[0m\u001b[0m\n\u001b[1;32m    247\u001b[0m         \u001b[0mzero_truth_degree\u001b[0m \u001b[0;34m=\u001b[0m \u001b[0mmfx\u001b[0m\u001b[0;34m.\u001b[0m\u001b[0msum\u001b[0m\u001b[0;34m(\u001b[0m\u001b[0;34m)\u001b[0m \u001b[0;34m==\u001b[0m \u001b[0;36m0\u001b[0m  \u001b[0;31m# Approximation of total area\u001b[0m\u001b[0;34m\u001b[0m\u001b[0;34m\u001b[0m\u001b[0m\n\u001b[0;32m--> 248\u001b[0;31m         \u001b[0;32massert\u001b[0m \u001b[0;32mnot\u001b[0m \u001b[0mzero_truth_degree\u001b[0m\u001b[0;34m,\u001b[0m \u001b[0;34m'Total area is zero in defuzzification!'\u001b[0m\u001b[0;34m\u001b[0m\u001b[0;34m\u001b[0m\u001b[0m\n\u001b[0m\u001b[1;32m    249\u001b[0m \u001b[0;34m\u001b[0m\u001b[0m\n\u001b[1;32m    250\u001b[0m         \u001b[0;32mif\u001b[0m \u001b[0;34m'centroid'\u001b[0m \u001b[0;32min\u001b[0m \u001b[0mmode\u001b[0m\u001b[0;34m:\u001b[0m\u001b[0;34m\u001b[0m\u001b[0;34m\u001b[0m\u001b[0m\n",
      "\u001b[0;31mAssertionError\u001b[0m: Total area is zero in defuzzification!"
     ]
    },
    {
     "data": {
      "image/png": "[encoded data removed]",
      "text/plain": [
       "<Figure size 720x360 with 1 Axes>"
      ]
     },
     "metadata": {
      "needs_background": "light"
     },
     "output_type": "display_data"
    }
   ],
   "source": [
    "fig, ax0 = plt.subplots(figsize=(10, 5))\n",
    "\n",
    "y_sin = np.sin(x_in)\n",
    "ax0.plot(x_in, y_sin, 'b', linewidth=0.5, linestyle='--', )\n",
    "\n",
    "y_f_sin = np.array([])\n",
    "for i in x_in:\n",
    "    np.append(y_f_sin, sin(result.x, i))\n",
    "    \n",
    "ax0.plot(x_in, y_f_sin, 'b', linewidth=0.5, linestyle='--', )"
   ]
  },
  {
   "cell_type": "code",
   "execution_count": 46,
   "id": "40054ee6",
   "metadata": {},
   "outputs": [
    {
     "name": "stdout",
     "output_type": "stream",
     "text": [
      "0.0\n",
      "0.01\n",
      "0.02\n",
      "0.03\n",
      "0.04\n",
      "0.05\n",
      "0.06\n",
      "0.07\n",
      "0.08\n",
      "0.09\n",
      "0.1\n",
      "0.11\n",
      "0.12\n",
      "0.13\n",
      "0.14\n",
      "0.15\n",
      "0.16\n",
      "0.17\n",
      "0.18\n",
      "0.19\n",
      "0.2\n",
      "0.21\n",
      "0.22\n",
      "0.23\n",
      "0.24\n",
      "0.25\n",
      "0.26\n",
      "0.27\n",
      "0.28\n",
      "0.29\n",
      "0.3\n",
      "0.31\n",
      "0.32\n",
      "0.33\n",
      "0.34\n",
      "0.35000000000000003\n",
      "0.36\n",
      "0.37\n",
      "0.38\n",
      "0.39\n",
      "0.4\n",
      "0.41000000000000003\n",
      "0.42\n",
      "0.43\n",
      "0.44\n",
      "0.45\n",
      "0.46\n",
      "0.47000000000000003\n",
      "0.48\n",
      "0.49\n",
      "0.5\n",
      "0.51\n",
      "0.52\n",
      "0.53\n",
      "0.54\n",
      "0.55\n",
      "0.56\n",
      "0.5700000000000001\n",
      "0.58\n",
      "0.59\n",
      "0.6\n",
      "0.61\n",
      "0.62\n",
      "0.63\n",
      "0.64\n",
      "0.65\n",
      "0.66\n",
      "0.67\n",
      "0.68\n",
      "0.6900000000000001\n",
      "0.7000000000000001\n",
      "0.71\n",
      "0.72\n",
      "0.73\n",
      "0.74\n",
      "0.75\n",
      "0.76\n",
      "0.77\n",
      "0.78\n",
      "0.79\n",
      "0.8\n",
      "0.81\n",
      "0.8200000000000001\n",
      "0.8300000000000001\n",
      "0.84\n",
      "0.85\n",
      "0.86\n",
      "0.87\n",
      "0.88\n",
      "0.89\n",
      "0.9\n",
      "0.91\n",
      "0.92\n",
      "0.93\n",
      "0.9400000000000001\n",
      "0.9500000000000001\n",
      "0.96\n",
      "0.97\n",
      "0.98\n",
      "0.99\n",
      "1.0\n",
      "1.01\n",
      "1.02\n",
      "1.03\n",
      "1.04\n",
      "1.05\n",
      "1.06\n",
      "1.07\n",
      "1.08\n",
      "1.09\n",
      "1.1\n",
      "1.11\n",
      "1.12\n",
      "1.1300000000000001\n",
      "1.1400000000000001\n",
      "1.1500000000000001\n",
      "1.16\n",
      "1.17\n",
      "1.18\n",
      "1.19\n",
      "1.2\n",
      "1.21\n",
      "1.22\n",
      "1.23\n",
      "1.24\n",
      "1.25\n",
      "1.26\n",
      "1.27\n",
      "1.28\n",
      "1.29\n",
      "1.3\n",
      "1.31\n",
      "1.32\n",
      "1.33\n",
      "1.34\n",
      "1.35\n",
      "1.36\n",
      "1.37\n",
      "1.3800000000000001\n",
      "1.3900000000000001\n",
      "1.4000000000000001\n",
      "1.41\n",
      "1.42\n",
      "1.43\n",
      "1.44\n",
      "1.45\n",
      "1.46\n",
      "1.47\n",
      "1.48\n",
      "1.49\n",
      "1.5\n",
      "1.51\n",
      "1.52\n",
      "1.53\n",
      "1.54\n",
      "1.55\n",
      "1.56\n",
      "1.57\n",
      "1.58\n",
      "1.59\n",
      "1.6\n",
      "1.61\n",
      "1.62\n",
      "1.6300000000000001\n",
      "1.6400000000000001\n",
      "1.6500000000000001\n",
      "1.6600000000000001\n",
      "1.67\n",
      "1.68\n",
      "1.69\n",
      "1.7\n",
      "1.71\n",
      "1.72\n",
      "1.73\n",
      "1.74\n",
      "1.75\n",
      "1.76\n",
      "1.77\n",
      "1.78\n",
      "1.79\n",
      "1.8\n",
      "1.81\n",
      "1.82\n",
      "1.83\n",
      "1.84\n",
      "1.85\n",
      "1.86\n",
      "1.87\n",
      "1.8800000000000001\n",
      "1.8900000000000001\n",
      "1.9000000000000001\n",
      "1.9100000000000001\n",
      "1.92\n",
      "1.93\n",
      "1.94\n",
      "1.95\n",
      "1.96\n",
      "1.97\n",
      "1.98\n",
      "1.99\n",
      "2.0\n",
      "2.0100000000000002\n",
      "2.02\n",
      "2.0300000000000002\n",
      "2.04\n",
      "2.05\n",
      "2.06\n",
      "2.07\n",
      "2.08\n",
      "2.09\n",
      "2.1\n",
      "2.11\n",
      "2.12\n",
      "2.13\n",
      "2.14\n",
      "2.15\n",
      "2.16\n",
      "2.17\n",
      "2.18\n",
      "2.19\n",
      "2.2\n",
      "2.21\n",
      "2.22\n",
      "2.23\n",
      "2.24\n",
      "2.25\n",
      "2.2600000000000002\n",
      "2.27\n",
      "2.2800000000000002\n",
      "2.29\n",
      "2.3000000000000003\n",
      "2.31\n",
      "2.32\n",
      "2.33\n",
      "2.34\n",
      "2.35\n",
      "2.36\n",
      "2.37\n",
      "2.38\n",
      "2.39\n",
      "2.4\n",
      "2.41\n",
      "2.42\n",
      "2.43\n",
      "2.44\n",
      "2.45\n",
      "2.46\n",
      "2.47\n",
      "2.48\n",
      "2.49\n",
      "2.5\n",
      "2.5100000000000002\n",
      "2.52\n",
      "2.5300000000000002\n",
      "2.54\n",
      "2.5500000000000003\n",
      "2.56\n",
      "2.57\n",
      "2.58\n",
      "2.59\n",
      "2.6\n",
      "2.61\n",
      "2.62\n",
      "2.63\n",
      "2.64\n",
      "2.65\n",
      "2.66\n",
      "2.67\n",
      "2.68\n",
      "2.69\n",
      "2.7\n",
      "2.71\n",
      "2.72\n",
      "2.73\n",
      "2.74\n",
      "2.75\n",
      "2.7600000000000002\n",
      "2.77\n",
      "2.7800000000000002\n",
      "2.79\n",
      "2.8000000000000003\n",
      "2.81\n",
      "2.82\n",
      "2.83\n",
      "2.84\n",
      "2.85\n",
      "2.86\n",
      "2.87\n",
      "2.88\n",
      "2.89\n",
      "2.9\n",
      "2.91\n",
      "2.92\n",
      "2.93\n",
      "2.94\n",
      "2.95\n",
      "2.96\n",
      "2.97\n",
      "2.98\n",
      "2.99\n",
      "3.0\n",
      "3.0100000000000002\n",
      "3.02\n",
      "3.0300000000000002\n",
      "3.04\n",
      "3.0500000000000003\n",
      "3.06\n",
      "3.0700000000000003\n",
      "3.08\n",
      "3.09\n",
      "3.1\n",
      "3.11\n",
      "3.12\n",
      "3.13\n",
      "3.14\n"
     ]
    }
   ],
   "source": [
    "for i in x_in:\n",
    "    print(i)"
   ]
  },
  {
   "cell_type": "code",
   "execution_count": 47,
   "id": "ca25bd2f",
   "metadata": {},
   "outputs": [
    {
     "data": {
      "text/plain": [
       "array([0.  , 0.01, 0.02, 0.03, 0.04, 0.05, 0.06, 0.07, 0.08, 0.09, 0.1 ,\n",
       "       0.11, 0.12, 0.13, 0.14, 0.15, 0.16, 0.17, 0.18, 0.19, 0.2 , 0.21,\n",
       "       0.22, 0.23, 0.24, 0.25, 0.26, 0.27, 0.28, 0.29, 0.3 , 0.31, 0.32,\n",
       "       0.33, 0.34, 0.35, 0.36, 0.37, 0.38, 0.39, 0.4 , 0.41, 0.42, 0.43,\n",
       "       0.44, 0.45, 0.46, 0.47, 0.48, 0.49, 0.5 , 0.51, 0.52, 0.53, 0.54,\n",
       "       0.55, 0.56, 0.57, 0.58, 0.59, 0.6 , 0.61, 0.62, 0.63, 0.64, 0.65,\n",
       "       0.66, 0.67, 0.68, 0.69, 0.7 , 0.71, 0.72, 0.73, 0.74, 0.75, 0.76,\n",
       "       0.77, 0.78, 0.79, 0.8 , 0.81, 0.82, 0.83, 0.84, 0.85, 0.86, 0.87,\n",
       "       0.88, 0.89, 0.9 , 0.91, 0.92, 0.93, 0.94, 0.95, 0.96, 0.97, 0.98,\n",
       "       0.99, 1.  , 1.01, 1.02, 1.03, 1.04, 1.05, 1.06, 1.07, 1.08, 1.09,\n",
       "       1.1 , 1.11, 1.12, 1.13, 1.14, 1.15, 1.16, 1.17, 1.18, 1.19, 1.2 ,\n",
       "       1.21, 1.22, 1.23, 1.24, 1.25, 1.26, 1.27, 1.28, 1.29, 1.3 , 1.31,\n",
       "       1.32, 1.33, 1.34, 1.35, 1.36, 1.37, 1.38, 1.39, 1.4 , 1.41, 1.42,\n",
       "       1.43, 1.44, 1.45, 1.46, 1.47, 1.48, 1.49, 1.5 , 1.51, 1.52, 1.53,\n",
       "       1.54, 1.55, 1.56, 1.57, 1.58, 1.59, 1.6 , 1.61, 1.62, 1.63, 1.64,\n",
       "       1.65, 1.66, 1.67, 1.68, 1.69, 1.7 , 1.71, 1.72, 1.73, 1.74, 1.75,\n",
       "       1.76, 1.77, 1.78, 1.79, 1.8 , 1.81, 1.82, 1.83, 1.84, 1.85, 1.86,\n",
       "       1.87, 1.88, 1.89, 1.9 , 1.91, 1.92, 1.93, 1.94, 1.95, 1.96, 1.97,\n",
       "       1.98, 1.99, 2.  , 2.01, 2.02, 2.03, 2.04, 2.05, 2.06, 2.07, 2.08,\n",
       "       2.09, 2.1 , 2.11, 2.12, 2.13, 2.14, 2.15, 2.16, 2.17, 2.18, 2.19,\n",
       "       2.2 , 2.21, 2.22, 2.23, 2.24, 2.25, 2.26, 2.27, 2.28, 2.29, 2.3 ,\n",
       "       2.31, 2.32, 2.33, 2.34, 2.35, 2.36, 2.37, 2.38, 2.39, 2.4 , 2.41,\n",
       "       2.42, 2.43, 2.44, 2.45, 2.46, 2.47, 2.48, 2.49, 2.5 , 2.51, 2.52,\n",
       "       2.53, 2.54, 2.55, 2.56, 2.57, 2.58, 2.59, 2.6 , 2.61, 2.62, 2.63,\n",
       "       2.64, 2.65, 2.66, 2.67, 2.68, 2.69, 2.7 , 2.71, 2.72, 2.73, 2.74,\n",
       "       2.75, 2.76, 2.77, 2.78, 2.79, 2.8 , 2.81, 2.82, 2.83, 2.84, 2.85,\n",
       "       2.86, 2.87, 2.88, 2.89, 2.9 , 2.91, 2.92, 2.93, 2.94, 2.95, 2.96,\n",
       "       2.97, 2.98, 2.99, 3.  , 3.01, 3.02, 3.03, 3.04, 3.05, 3.06, 3.07,\n",
       "       3.08, 3.09, 3.1 , 3.11, 3.12, 3.13, 3.14])"
      ]
     },
     "execution_count": 47,
     "metadata": {},
     "output_type": "execute_result"
    }
   ],
   "source": [
    "x_in"
   ]
  },
  {
   "cell_type": "code",
   "execution_count": 71,
   "id": "2238f26e",
   "metadata": {},
   "outputs": [],
   "source": [
    "t = np.array([])"
   ]
  },
  {
   "cell_type": "code",
   "execution_count": 72,
   "id": "40870f56",
   "metadata": {},
   "outputs": [
    {
     "data": {
      "text/plain": [
       "array([9.8])"
      ]
     },
     "execution_count": 72,
     "metadata": {},
     "output_type": "execute_result"
    }
   ],
   "source": [
    "np.append(t, 9.8)"
   ]
  },
  {
   "cell_type": "code",
   "execution_count": null,
   "id": "d8e94c21",
   "metadata": {},
   "outputs": [],
   "source": []
  }
 ],
 "metadata": {
  "kernelspec": {
   "display_name": "Python 3 (ipykernel)",
   "language": "python",
   "name": "python3"
  },
  "language_info": {
   "codemirror_mode": {
    "name": "ipython",
    "version": 3
   },
   "file_extension": ".py",
   "mimetype": "text/x-python",
   "name": "python",
   "nbconvert_exporter": "python",
   "pygments_lexer": "ipython3",
   "version": "3.8.12"
  }
 },
 "nbformat": 4,
 "nbformat_minor": 5
}
