{
 "cells": [
  {
   "cell_type": "markdown",
   "id": "ea0fc1a7",
   "metadata": {},
   "source": [
    "# Problem2"
   ]
  },
  {
   "cell_type": "markdown",
   "id": "593515b3",
   "metadata": {},
   "source": [
    "$$\n",
    "\\\\it's\\;been\\;decided\\;to\\;tune\\;on\\;[0, \\pi]\\;and\\;miror\\;the\\;next\\;part\\;to\\;make\\;symmetry\n",
    "$$"
   ]
  },
  {
   "cell_type": "code",
   "execution_count": 1,
   "id": "a3a24920",
   "metadata": {},
   "outputs": [],
   "source": [
    "import numpy as np\n",
    "import skfuzzy as fuzz\n",
    "import matplotlib.pyplot as plt"
   ]
  },
  {
   "cell_type": "code",
   "execution_count": 2,
   "id": "cf95c544",
   "metadata": {},
   "outputs": [],
   "source": [
    "from scipy.optimize import differential_evolution, NonlinearConstraint, Bounds, minimize, fmin, rosen "
   ]
  },
  {
   "cell_type": "markdown",
   "id": "26b3e2a6",
   "metadata": {},
   "source": [
    "# https://docs.scipy.org/doc/scipy/reference/generated/scipy.optimize.differential_evolution.html#scipy.optimize.differential_evolution"
   ]
  },
  {
   "cell_type": "code",
   "execution_count": 3,
   "id": "ed8a97fd",
   "metadata": {},
   "outputs": [],
   "source": [
    "# Generate universe variables\n",
    "x_in = np.arange(0, np.pi, 0.01)\n",
    "y_out = np.arange(0, 1, 0.01)\n",
    "\n",
    "\n",
    "#well this function takes a vector/list of variables for mf boundies with input & spits out a number for sin()\n",
    "def sin(X, x):\n",
    "    x_lo = fuzz.trapmf(x_in, [X[0], X[1], X[2], X[3]])\n",
    "    x_md = fuzz.trapmf(x_in, [X[4], X[5], X[6], X[7]])\n",
    "    x_hi = fuzz.trapmf(x_in, [X[8], X[9], X[10], X[11]])\n",
    "   \n",
    "    y_lo = fuzz.trapmf(y_out, [X[12], X[13], X[14], X[15]])\n",
    "    y_hi = fuzz.trapmf(y_out, [X[16], X[17], X[18], X[19]])\n",
    "    \n",
    "    x_le_lo = fuzz.interp_membership(x_in, x_lo, x)\n",
    "    x_le_md = fuzz.interp_membership(x_in, x_md, x)\n",
    "    x_le_hi = fuzz.interp_membership(x_in, x_hi, x)\n",
    "\n",
    "    #rule1: if x == lo -> y = lo\n",
    "    y_act_lo1 = np.fmax(np.fmin(x_le_lo, y_lo), 1-x_le_lo)\n",
    "    \n",
    "    #rule2: if x == md -> y = hi\n",
    "    y_act_hi = np.fmax(np.fmin(x_le_md, y_hi), 1-x_le_md)\n",
    "    \n",
    "    #rule3: if x == hi -> y = lo\n",
    "    y_act_lo2 = np.fmax(np.fmin(x_le_hi, y_lo), 1-x_le_hi)\n",
    "    \n",
    "    y_act_lo = np.fmin(y_act_lo1, y_act_lo2)\n",
    "    \n",
    "    agg = np.fmin(y_act_lo, y_act_hi)\n",
    "    \n",
    "    y = fuzz.defuzz(y_out, agg, 'centroid')\n",
    "    \n",
    "    return y\n",
    "# # Generate fuzzy membership functions\n",
    "# x_lo = fuzz.trapmf(x_in, [0, 0, 0.1, 2])\n",
    "# x_md = fuzz.trapmf(x_in, [1, np.pi/2, np.pi/2, 3])\n",
    "# x_hi = fuzz.trapmf(x_in, [2, 2, 3, np.pi])\n"
   ]
  },
  {
   "cell_type": "code",
   "execution_count": 6,
   "id": "ec3db4fe",
   "metadata": {},
   "outputs": [
    {
     "data": {
      "text/plain": [
       "0.49499999999999933"
      ]
     },
     "execution_count": 6,
     "metadata": {},
     "output_type": "execute_result"
    }
   ],
   "source": [
    "sin([0, 0, 0.1, 1.5, 1, 1.6, 1.8, 3, 1.8, 2, np.pi, np.pi, 0, 0, 0.2, 0.6, 0.6, 0.8, 1, 1], 1)"
   ]
  },
  {
   "cell_type": "code",
   "execution_count": 7,
   "id": "a97cb046",
   "metadata": {},
   "outputs": [
    {
     "data": {
      "text/plain": [
       "0.8414709848078965"
      ]
     },
     "execution_count": 7,
     "metadata": {},
     "output_type": "execute_result"
    }
   ],
   "source": [
    "np.sin(1)"
   ]
  },
  {
   "cell_type": "code",
   "execution_count": 8,
   "id": "93924add",
   "metadata": {},
   "outputs": [],
   "source": [
    "def Error(X):\n",
    "    p4 = np.pi/4\n",
    "    v = np.array([np.sin(p4)-sin(X,p4), np.sin(2*p4)-sin(X,2*p4), np.sin(3*p4)-sin(X,3*p4)])\n",
    "    return np.linalg.norm(v, 2)"
   ]
  },
  {
   "cell_type": "code",
   "execution_count": 9,
   "id": "3a49ef35",
   "metadata": {},
   "outputs": [
    {
     "data": {
      "text/plain": [
       "0.5385113621733931"
      ]
     },
     "execution_count": 9,
     "metadata": {},
     "output_type": "execute_result"
    }
   ],
   "source": [
    "Error([0, 0, 0.1, 1.5, 1, 1.6, 1.8, 3, 1.9, 2.1, np.pi, np.pi, 0, 0, 0.2, 0.6, 0.7, 0.8, 1, 1])"
   ]
  },
  {
   "cell_type": "code",
   "execution_count": null,
   "id": "c6fed78e",
   "metadata": {},
   "outputs": [],
   "source": []
  },
  {
   "cell_type": "code",
   "execution_count": 12,
   "id": "7f9a75ed",
   "metadata": {},
   "outputs": [],
   "source": [
    "def ros(X):\n",
    "    return 1+ X[0]**2 + X[1]**2 + X[2]**2 + X[3]**2"
   ]
  },
  {
   "cell_type": "code",
   "execution_count": 13,
   "id": "912f61b1",
   "metadata": {},
   "outputs": [
    {
     "data": {
      "text/plain": [
       "31"
      ]
     },
     "execution_count": 13,
     "metadata": {},
     "output_type": "execute_result"
    }
   ],
   "source": [
    "ros([1,2,3,4])"
   ]
  },
  {
   "cell_type": "code",
   "execution_count": 11,
   "id": "0f211462",
   "metadata": {},
   "outputs": [],
   "source": [
    "#constrains & Bounds\n",
    "bounds = [(0, np.pi), (0, np.pi), (0, np.pi), (0, np.pi), (0, np.pi), (0, np.pi), (0, np.pi), (0, np.pi),\n",
    "          (0, np.pi), (0, np.pi), (0, np.pi), (0, np.pi), \n",
    "         (0, 1), (0, 1), (0, 1), (0, 1), (0, 1), (0, 1), (0, 1), (0, 1)]\n",
    "\n",
    "def c_x_lo_1(x):\n",
    "    return np.array(x[1]-x[0])\n",
    "c1 = NonlinearConstraint(c_x_lo_1, 0, np.inf)\n",
    "def c_x_lo_2(x):\n",
    "    return np.array(x[2]-x[1])\n",
    "c2 = NonlinearConstraint(c_x_lo_2, 0, np.inf)\n",
    "def c_x_lo_3(x):\n",
    "    return np.array(x[3]-x[2])\n",
    "c3 = NonlinearConstraint(c_x_lo_3, 0, np.inf)\n",
    "def c_x_md_1(x):\n",
    "    return np.array(x[5]-x[4])\n",
    "c4 = NonlinearConstraint(c_x_md_1, 0, np.inf)\n",
    "def c_x_md_2(x):\n",
    "    return np.array(x[6]-x[5])\n",
    "c5 = NonlinearConstraint(c_x_md_2, 0, np.inf)\n",
    "def c_x_md_3(x):\n",
    "    return np.array(x[7]-x[6])\n",
    "c6 = NonlinearConstraint(c_x_md_3, 0, np.inf)\n",
    "def c_x_hi_1(x):\n",
    "    return np.array(x[9]-x[8])\n",
    "c7 = NonlinearConstraint(c_x_hi_1, 0, np.inf)\n",
    "def c_x_hi_2(x):\n",
    "    return np.array(x[10]-x[9])\n",
    "c8 = NonlinearConstraint(c_x_hi_2, 0, np.inf)\n",
    "def c_x_hi_3(x):\n",
    "    return np.array(x[11]-x[10])\n",
    "c9 = NonlinearConstraint(c_x_hi_3, 0, np.inf)\n",
    "def c_y_lo_1(x):\n",
    "    return np.array(x[13]-x[12])\n",
    "c10 = NonlinearConstraint(c_y_lo_1, 0, np.inf)\n",
    "def c_y_lo_2(x):\n",
    "    return np.array(x[14]-x[13])\n",
    "c11 = NonlinearConstraint(c_y_lo_2, 0, np.inf)\n",
    "def c_y_lo_3(x):\n",
    "    return np.array(x[15]-x[14])\n",
    "c12 = NonlinearConstraint(c_y_lo_3, 0, np.inf)\n",
    "def c_y_hi_1(x):\n",
    "    return np.array(x[17]-x[16])\n",
    "c13 = NonlinearConstraint(c_y_hi_1, 0, np.inf)\n",
    "def c_y_hi_2(x):\n",
    "    return np.array(x[18]-x[17])\n",
    "c14 = NonlinearConstraint(c_y_hi_2, 0, np.inf)\n",
    "def c_y_hi_3(x):\n",
    "    return np.array(x[19]-x[18])\n",
    "c15 = NonlinearConstraint(c_y_hi_3, 0, np.inf)\n",
    "cs = (c1, c2, c3, c4, c5, c6, c7, c8, c9, c10, c11, c12, c13, c14, c15)"
   ]
  },
  {
   "cell_type": "code",
   "execution_count": 12,
   "id": "5debc3fa",
   "metadata": {},
   "outputs": [
    {
     "name": "stderr",
     "output_type": "stream",
     "text": [
      "/home/garfield/anaconda3/lib/python3.8/site-packages/scipy/optimize/_hessian_update_strategy.py:182: UserWarning: delta_grad == 0.0. Check if the approximated function is linear. If the function is linear better results can be obtained by defining the Hessian as zero instead of using quasi-Newton approximations.\n",
      "  warn('delta_grad == 0.0. Check if the approximated '\n"
     ]
    },
    {
     "data": {
      "text/plain": [
       "(array([0.08904881, 0.44047543, 2.35106525, 2.95442739, 0.6686553 ,\n",
       "        1.05513277, 2.1819393 , 2.35309807, 0.88649763, 2.21930116,\n",
       "        2.50064688, 3.07227184, 0.38874047, 0.46606823, 0.5605892 ,\n",
       "        0.98997011, 0.61821384, 0.67414819, 0.87341412, 0.96593834]),\n",
       " 0.26121162599949427)"
      ]
     },
     "execution_count": 12,
     "metadata": {},
     "output_type": "execute_result"
    }
   ],
   "source": [
    "\n",
    "xinitial = [0, 0, 0.1, 1.5, 1, 1.6, 1.8, 3, 1.8, 2, np.pi, np.pi, 0, 0, 0.2, 0.6, 0.6, 0.8, 1, 1]\n",
    "\n",
    "result = differential_evolution(Error, bounds, constraints=(cs), x0 = xinitial)\n",
    "result.x, result.fun"
   ]
  },
  {
   "cell_type": "code",
   "execution_count": 15,
   "id": "ebaa56b3",
   "metadata": {},
   "outputs": [
    {
     "data": {
      "text/plain": [
       "0.7551996188768102"
      ]
     },
     "execution_count": 15,
     "metadata": {},
     "output_type": "execute_result"
    }
   ],
   "source": [
    "sin(result.x, 2)"
   ]
  },
  {
   "cell_type": "code",
   "execution_count": 16,
   "id": "4970536d",
   "metadata": {},
   "outputs": [
    {
     "data": {
      "text/plain": [
       "0.9092974268256817"
      ]
     },
     "execution_count": 16,
     "metadata": {},
     "output_type": "execute_result"
    }
   ],
   "source": [
    "np.sin(2)"
   ]
  },
  {
   "cell_type": "code",
   "execution_count": 49,
   "id": "e8ff0752",
   "metadata": {},
   "outputs": [
    {
     "ename": "AttributeError",
     "evalue": "'AxesSubplot' object has no attribute 'show'",
     "output_type": "error",
     "traceback": [
      "\u001b[0;31m---------------------------------------------------------------------------\u001b[0m",
      "\u001b[0;31mAttributeError\u001b[0m                            Traceback (most recent call last)",
      "\u001b[0;32m/tmp/ipykernel_4692/3202566076.py\u001b[0m in \u001b[0;36m<module>\u001b[0;34m\u001b[0m\n\u001b[1;32m     10\u001b[0m \u001b[0;34m\u001b[0m\u001b[0m\n\u001b[1;32m     11\u001b[0m \u001b[0max0\u001b[0m\u001b[0;34m.\u001b[0m\u001b[0mplot\u001b[0m\u001b[0;34m(\u001b[0m\u001b[0mx_in\u001b[0m\u001b[0;34m,\u001b[0m \u001b[0my_f_sin\u001b[0m\u001b[0;34m,\u001b[0m \u001b[0;34m'r'\u001b[0m\u001b[0;34m,\u001b[0m \u001b[0mlinewidth\u001b[0m\u001b[0;34m=\u001b[0m\u001b[0;36m1.5\u001b[0m\u001b[0;34m,\u001b[0m \u001b[0mlinestyle\u001b[0m\u001b[0;34m=\u001b[0m\u001b[0;34m'--'\u001b[0m\u001b[0;34m,\u001b[0m \u001b[0;34m)\u001b[0m\u001b[0;34m\u001b[0m\u001b[0;34m\u001b[0m\u001b[0m\n\u001b[0;32m---> 12\u001b[0;31m \u001b[0max0\u001b[0m\u001b[0;34m.\u001b[0m\u001b[0mshow\u001b[0m\u001b[0;34m(\u001b[0m\u001b[0;34m)\u001b[0m\u001b[0;34m\u001b[0m\u001b[0;34m\u001b[0m\u001b[0m\n\u001b[0m",
      "\u001b[0;31mAttributeError\u001b[0m: 'AxesSubplot' object has no attribute 'show'"
     ]
    },
    {
     "data": {
      "image/png": "[encoded data removed]",
      "text/plain": [
       "<Figure size 720x360 with 1 Axes>"
      ]
     },
     "metadata": {
      "needs_background": "light"
     },
     "output_type": "display_data"
    }
   ],
   "source": [
    "fig, ax0 = plt.subplots(figsize=(10, 5))\n",
    "\n",
    "y_sin = np.sin(x_in)\n",
    "ax0.plot(x_in, y_sin, 'b', linewidth=1.5, linestyle='--', )\n",
    "\n",
    "y_f_sin = np.array([])\n",
    "for i in x_in:\n",
    "    #print(i, sin(result.x, i))\n",
    "    y_f_sin = np.append(y_f_sin, sin(result.x, i))\n",
    "    \n",
    "ax0.plot(x_in, y_f_sin, 'r', linewidth=1.5, linestyle='--', )\n",
    "plt.show()"
   ]
  },
  {
   "cell_type": "code",
   "execution_count": 20,
   "id": "09bb2737",
   "metadata": {},
   "outputs": [
    {
     "data": {
      "text/plain": [
       "(315,)"
      ]
     },
     "execution_count": 20,
     "metadata": {},
     "output_type": "execute_result"
    }
   ],
   "source": [
    "x_in.shape"
   ]
  },
  {
   "cell_type": "code",
   "execution_count": 45,
   "id": "11c42957",
   "metadata": {},
   "outputs": [
    {
     "data": {
      "text/plain": [
       "(315,)"
      ]
     },
     "execution_count": 45,
     "metadata": {},
     "output_type": "execute_result"
    }
   ],
   "source": [
    "y_f_sin.shape"
   ]
  },
  {
   "cell_type": "code",
   "execution_count": null,
   "id": "791db1a4",
   "metadata": {},
   "outputs": [],
   "source": []
  },
  {
   "cell_type": "code",
   "execution_count": null,
   "id": "744c2eca",
   "metadata": {},
   "outputs": [],
   "source": []
  },
  {
   "cell_type": "code",
   "execution_count": null,
   "id": "223704a4",
   "metadata": {},
   "outputs": [],
   "source": []
  },
  {
   "cell_type": "code",
   "execution_count": 31,
   "id": "0c8b2215",
   "metadata": {},
   "outputs": [],
   "source": [
    "t = np.array([])"
   ]
  },
  {
   "cell_type": "code",
   "execution_count": 41,
   "id": "ced7d5d7",
   "metadata": {},
   "outputs": [
    {
     "data": {
      "text/plain": [
       "array([9.8, 9. ])"
      ]
     },
     "execution_count": 41,
     "metadata": {},
     "output_type": "execute_result"
    }
   ],
   "source": [
    "t = np.append(t, 9.8, axis = None)\n",
    "np.append(t, 9)"
   ]
  },
  {
   "cell_type": "code",
   "execution_count": 42,
   "id": "668cda3f",
   "metadata": {},
   "outputs": [
    {
     "data": {
      "text/plain": [
       "array([9.8])"
      ]
     },
     "execution_count": 42,
     "metadata": {},
     "output_type": "execute_result"
    }
   ],
   "source": [
    "t"
   ]
  },
  {
   "cell_type": "code",
   "execution_count": null,
   "id": "bf2575bb",
   "metadata": {},
   "outputs": [],
   "source": []
  }
 ],
 "metadata": {
  "kernelspec": {
   "display_name": "Python 3 (ipykernel)",
   "language": "python",
   "name": "python3"
  },
  "language_info": {
   "codemirror_mode": {
    "name": "ipython",
    "version": 3
   },
   "file_extension": ".py",
   "mimetype": "text/x-python",
   "name": "python",
   "nbconvert_exporter": "python",
   "pygments_lexer": "ipython3",
   "version": "3.8.12"
  }
 },
 "nbformat": 4,
 "nbformat_minor": 5
}
