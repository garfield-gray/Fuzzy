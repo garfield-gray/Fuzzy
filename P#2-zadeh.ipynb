{
 "cells": [
  {
   "cell_type": "markdown",
   "id": "ea0fc1a7",
   "metadata": {},
   "source": [
    "# Problem2"
   ]
  },
  {
   "cell_type": "markdown",
   "id": "593515b3",
   "metadata": {},
   "source": [
    "$$\n",
    "\\\\it's\\;been\\;decided\\;to\\;tune\\;on\\;[0, \\pi]\\;and\\;miror\\;the\\;next\\;part\\;to\\;make\\;symmetry\n",
    "$$"
   ]
  },
  {
   "cell_type": "code",
   "execution_count": 1,
   "id": "a3a24920",
   "metadata": {},
   "outputs": [],
   "source": [
    "import numpy as np\n",
    "import skfuzzy as fuzz\n",
    "import matplotlib.pyplot as plt"
   ]
  },
  {
   "cell_type": "code",
   "execution_count": 2,
   "id": "c8d36357",
   "metadata": {},
   "outputs": [],
   "source": [
    "from scipy.optimize import minimize, fmin, rosen, differential_evolution "
   ]
  },
  {
   "cell_type": "code",
   "execution_count": 1,
   "id": "5bba7119",
   "metadata": {},
   "outputs": [],
   "source": [
    "# https://docs.scipy.org/doc/scipy/reference/generated/scipy.optimize.differential_evolution.html#scipy.optimize.differential_evolution"
   ]
  },
  {
   "cell_type": "code",
   "execution_count": 14,
   "id": "547e794e",
   "metadata": {},
   "outputs": [
    {
     "data": {
      "text/plain": [
       "1"
      ]
     },
     "execution_count": 14,
     "metadata": {},
     "output_type": "execute_result"
    }
   ],
   "source": [
    "L = [1,2 ,4]\n",
    "L[0]"
   ]
  },
  {
   "cell_type": "code",
   "execution_count": null,
   "id": "cab5c9b5",
   "metadata": {},
   "outputs": [],
   "source": []
  },
  {
   "cell_type": "code",
   "execution_count": 82,
   "id": "ed8a97fd",
   "metadata": {},
   "outputs": [],
   "source": [
    "# Generate universe variables\n",
    "x_in = np.arange(0, np.pi, 0.01)\n",
    "y_out = np.arange(0, 1, 0.01)\n",
    "\n",
    "\n",
    "#well this function takes a vector/list of variables for mf boundies with input & spits out a number for sin()\n",
    "def sin(X, x):\n",
    "    x_lo = fuzz.trapmf(x_in, [X[0], X[1], X[2], X[3]])\n",
    "    x_md = fuzz.trapmf(x_in, [X[4], X[5], X[6], X[7]])\n",
    "    x_hi = fuzz.trapmf(x_in, [X[8], X[9], X[10], X[11]])\n",
    "   \n",
    "    y_lo = fuzz.trapmf(y_out, [X[12], X[13], X[14], X[15]])\n",
    "    y_hi = fuzz.trapmf(y_out, [X[16], X[17], X[18], X[19]])\n",
    "    \n",
    "    x_le_lo = fuzz.interp_membership(x_in, x_lo, x)\n",
    "    x_le_md = fuzz.interp_membership(x_in, x_md, x)\n",
    "    x_le_hi = fuzz.interp_membership(x_in, x_hi, x)\n",
    "\n",
    "    #rule1: if x == lo -> y = lo\n",
    "    y_act_lo1 = np.fmax(np.fmin(x_le_lo, y_lo), 1-x_le_lo)\n",
    "    \n",
    "    #rule2: if x == md -> y = hi\n",
    "    y_act_hi = np.fmax(np.fmin(x_le_md, y_hi), 1-x_le_md)\n",
    "    \n",
    "    #rule3: if x == hi -> y = lo\n",
    "    y_act_lo2 = np.fmax(np.fmin(x_le_hi, y_lo), 1-x_le_hi)\n",
    "    \n",
    "    y_act_lo = np.fmin(y_act_lo1, y_act_lo2)\n",
    "    \n",
    "    agg = np.fmin(y_act_lo, y_act_hi)\n",
    "    \n",
    "    y = fuzz.defuzz(y_out, agg, 'centroid')\n",
    "    \n",
    "    return y\n",
    "# # Generate fuzzy membership functions\n",
    "# x_lo = fuzz.trapmf(x_in, [0, 0, 0.1, 2])\n",
    "# x_md = fuzz.trapmf(x_in, [1, np.pi/2, np.pi/2, 3])\n",
    "# x_hi = fuzz.trapmf(x_in, [2, 2, 3, np.pi])\n",
    "\n",
    "\n",
    "# Visualize these universes and membership functions\n",
    "# fig, (ax0, ax1) = plt.subplots(nrows=2, figsize=(10, 15))\n",
    "\n",
    "# ax0.plot(x, x_lo, 'b', linewidth=1.5, label='Low')\n",
    "# ax0.plot(x, x_md, 'g', linewidth=1.5, label='Moderete')\n",
    "# ax0.plot(x, x_hi, 'r', linewidth=1.5, label='High')\n",
    "# ax0.set_title('light shineness')\n",
    "# ax0.legend()\n",
    "\n",
    "# ax1.plot(x_motion, motion_st, 'b', linewidth=1.5, label='Static')\n",
    "# ax1.plot(x_motion, motion_mo, 'g', linewidth=1.5, label='Mobile')\n",
    "# ax1.plot(x_motion, motion_hi, 'r', linewidth=1.5, label='Highly Mobile')\n",
    "# ax1.set_title('Object Motion')\n",
    "# ax1.legend()\n",
    "\n",
    "\n",
    "# # Turn off top/right axes\n",
    "# for ax in (ax0, ax1, ax2):\n",
    "#     ax.spines['top'].set_visible(False)\n",
    "#     ax.spines['right'].set_visible(False)\n",
    "#     ax.get_xaxis().tick_bottom()\n",
    "#     ax.get_yaxis().tick_left()\n",
    "\n",
    "# plt.tight_layout()"
   ]
  },
  {
   "cell_type": "code",
   "execution_count": 86,
   "id": "ec3db4fe",
   "metadata": {},
   "outputs": [
    {
     "data": {
      "text/plain": [
       "0.2835863489261548"
      ]
     },
     "execution_count": 86,
     "metadata": {},
     "output_type": "execute_result"
    }
   ],
   "source": [
    "sin([0, 0, 0.1, 1.5, 1, 1.6, 1.8, 3, 1.8, 2, np.pi, np.pi, 0, 0, 0.2, 0.6, 0.6, 0.8, 1, 1], 2)"
   ]
  },
  {
   "cell_type": "code",
   "execution_count": 87,
   "id": "a97cb046",
   "metadata": {},
   "outputs": [
    {
     "data": {
      "text/plain": [
       "0.9092974268256817"
      ]
     },
     "execution_count": 87,
     "metadata": {},
     "output_type": "execute_result"
    }
   ],
   "source": [
    "np.sin(2)"
   ]
  },
  {
   "cell_type": "code",
   "execution_count": 3,
   "id": "6568ecdf",
   "metadata": {},
   "outputs": [],
   "source": [
    "from pymoo.optimize import minimize"
   ]
  },
  {
   "cell_type": "code",
   "execution_count": null,
   "id": "912f61b1",
   "metadata": {},
   "outputs": [],
   "source": []
  },
  {
   "cell_type": "code",
   "execution_count": null,
   "id": "5debc3fa",
   "metadata": {},
   "outputs": [],
   "source": []
  },
  {
   "cell_type": "code",
   "execution_count": null,
   "id": "ebaa56b3",
   "metadata": {},
   "outputs": [],
   "source": []
  },
  {
   "cell_type": "code",
   "execution_count": null,
   "id": "93ef379c",
   "metadata": {},
   "outputs": [],
   "source": []
  },
  {
   "cell_type": "code",
   "execution_count": 88,
   "id": "b02d0357",
   "metadata": {},
   "outputs": [],
   "source": [
    "#ga() with 3 examples for example\n",
    "#thats it=)\n"
   ]
  },
  {
   "cell_type": "code",
   "execution_count": 2,
   "id": "3d1adbb3",
   "metadata": {},
   "outputs": [
    {
     "name": "stdout",
     "output_type": "stream",
     "text": [
      "============================================================\n",
      "n_gen |  n_eval |     igd      |      gd      |      hv     \n",
      "============================================================\n",
      "    1 |     100 |  1.968750093 |  2.604804832 |  0.00000E+00\n",
      "    2 |     200 |  1.734489567 |  2.581573950 |  0.00000E+00\n",
      "    3 |     300 |  1.734489567 |  2.459669453 |  0.00000E+00\n",
      "    4 |     400 |  1.734489567 |  2.494031231 |  0.00000E+00\n",
      "    5 |     500 |  1.717832911 |  2.121980227 |  0.00000E+00\n",
      "    6 |     600 |  1.185966215 |  2.078544110 |  0.00000E+00\n",
      "    7 |     700 |  1.185966215 |  2.085332953 |  0.00000E+00\n",
      "    8 |     800 |  1.034422085 |  1.967599712 |  0.00000E+00\n",
      "    9 |     900 |  1.031204325 |  1.672868174 |  0.00000E+00\n",
      "   10 |    1000 |  0.957837861 |  1.328719106 |  0.00000E+00\n",
      "   11 |    1100 |  0.949759789 |  1.316097258 |  0.00000E+00\n",
      "   12 |    1200 |  0.884360161 |  1.269278705 |  0.00000E+00\n",
      "   13 |    1300 |  0.850114718 |  1.187657401 |  0.00000E+00\n",
      "   14 |    1400 |  0.830429218 |  1.031565288 |  0.00000E+00\n",
      "   15 |    1500 |  0.735030226 |  1.032345638 |  0.015573226\n",
      "   16 |    1600 |  0.697020622 |  0.913973924 |  0.027205500\n",
      "   17 |    1700 |  0.686455506 |  0.921037103 |  0.028952853\n",
      "   18 |    1800 |  0.669603390 |  0.862051887 |  0.030592026\n",
      "   19 |    1900 |  0.611951494 |  0.789306350 |  0.051049801\n",
      "   20 |    2000 |  0.601453145 |  0.777531933 |  0.054600780\n",
      "   21 |    2100 |  0.548419616 |  0.725946879 |  0.067051514\n",
      "   22 |    2200 |  0.529860390 |  0.649895751 |  0.078382958\n",
      "   23 |    2300 |  0.526594155 |  0.617134130 |  0.083702145\n",
      "   24 |    2400 |  0.490372505 |  0.571248853 |  0.096371345\n",
      "   25 |    2500 |  0.467401095 |  0.571160190 |  0.123007089\n",
      "   26 |    2600 |  0.445741933 |  0.531570562 |  0.142649410\n",
      "   27 |    2700 |  0.426520376 |  0.510451416 |  0.158896081\n",
      "   28 |    2800 |  0.403553476 |  0.487577165 |  0.175718606\n",
      "   29 |    2900 |  0.380024091 |  0.432107522 |  0.192209882\n",
      "   30 |    3000 |  0.361899090 |  0.426620061 |  0.205984102\n",
      "   31 |    3100 |  0.339518899 |  0.421104161 |  0.222064009\n",
      "   32 |    3200 |  0.327544761 |  0.394680035 |  0.234422952\n",
      "   33 |    3300 |  0.318122526 |  0.379194484 |  0.245612038\n",
      "   34 |    3400 |  0.302073253 |  0.343415983 |  0.263558830\n",
      "   35 |    3500 |  0.285221530 |  0.322739846 |  0.277153375\n",
      "   36 |    3600 |  0.279196160 |  0.288108449 |  0.284390999\n",
      "   37 |    3700 |  0.270293840 |  0.293760516 |  0.297491170\n",
      "   38 |    3800 |  0.267759155 |  0.280146925 |  0.305687484\n",
      "   39 |    3900 |  0.247516711 |  0.280019872 |  0.324309165\n",
      "   40 |    4000 |  0.234592927 |  0.259510560 |  0.336210648\n",
      "   41 |    4100 |  0.223840119 |  0.242407687 |  0.353921422\n",
      "   42 |    4200 |  0.218358565 |  0.227859736 |  0.366002357\n",
      "   43 |    4300 |  0.205899427 |  0.223731249 |  0.380913964\n",
      "   44 |    4400 |  0.191245220 |  0.213850559 |  0.393225220\n",
      "   45 |    4500 |  0.185509393 |  0.206267931 |  0.399576770\n",
      "   46 |    4600 |  0.175485614 |  0.203583930 |  0.411963060\n",
      "   47 |    4700 |  0.170843622 |  0.187734164 |  0.421851793\n",
      "   48 |    4800 |  0.164650602 |  0.183939303 |  0.428651319\n",
      "   49 |    4900 |  0.160267518 |  0.172634863 |  0.438253277\n",
      "   50 |    5000 |  0.153827654 |  0.163106608 |  0.444644600\n",
      "   51 |    5100 |  0.146793103 |  0.156641633 |  0.454124900\n",
      "   52 |    5200 |  0.142836584 |  0.151303016 |  0.460082769\n",
      "   53 |    5300 |  0.136017975 |  0.147896408 |  0.467882311\n",
      "   54 |    5400 |  0.134118854 |  0.142296831 |  0.471537691\n",
      "   55 |    5500 |  0.129718166 |  0.134193234 |  0.476992514\n",
      "   56 |    5600 |  0.121443520 |  0.131358932 |  0.488499031\n",
      "   57 |    5700 |  0.116567058 |  0.127759602 |  0.496787356\n",
      "   58 |    5800 |  0.110220455 |  0.121888663 |  0.503463044\n",
      "   59 |    5900 |  0.104739760 |  0.111334366 |  0.512253879\n",
      "   60 |    6000 |  0.100274943 |  0.108191682 |  0.519705821\n",
      "   61 |    6100 |  0.095465664 |  0.102922992 |  0.524844943\n",
      "   62 |    6200 |  0.091238200 |  0.099733301 |  0.532441822\n",
      "   63 |    6300 |  0.087171575 |  0.095673033 |  0.539065130\n",
      "   64 |    6400 |  0.079518813 |  0.091882485 |  0.547322457\n",
      "   65 |    6500 |  0.075036525 |  0.084410916 |  0.553326928\n",
      "   66 |    6600 |  0.070747279 |  0.082723930 |  0.559501688\n",
      "   67 |    6700 |  0.065289475 |  0.076278750 |  0.566223277\n",
      "   68 |    6800 |  0.060692284 |  0.067707839 |  0.572690313\n",
      "   69 |    6900 |  0.055284810 |  0.060928052 |  0.579828993\n",
      "   70 |    7000 |  0.052480653 |  0.057263896 |  0.584309766\n",
      "   71 |    7100 |  0.050838578 |  0.056170117 |  0.587511457\n",
      "   72 |    7200 |  0.048889248 |  0.053203815 |  0.590964681\n",
      "   73 |    7300 |  0.046736543 |  0.049442788 |  0.594664829\n",
      "   74 |    7400 |  0.044739322 |  0.046682003 |  0.597982790\n",
      "   75 |    7500 |  0.042437542 |  0.045356004 |  0.601445617\n",
      "   76 |    7600 |  0.039563002 |  0.042790955 |  0.604956261\n",
      "   77 |    7700 |  0.038493982 |  0.041476944 |  0.607026217\n",
      "   78 |    7800 |  0.036535029 |  0.038782936 |  0.609750274\n",
      "   79 |    7900 |  0.034633763 |  0.036733792 |  0.612320683\n",
      "   80 |    8000 |  0.032649475 |  0.035310124 |  0.615478145\n",
      "   81 |    8100 |  0.031233331 |  0.033531442 |  0.617983911\n",
      "   82 |    8200 |  0.028963342 |  0.030959049 |  0.620952558\n",
      "   83 |    8300 |  0.027666639 |  0.029670563 |  0.623231312\n",
      "   84 |    8400 |  0.026372158 |  0.028420277 |  0.624960338\n",
      "   85 |    8500 |  0.025335067 |  0.027672666 |  0.626341756\n",
      "   86 |    8600 |  0.024226577 |  0.026058782 |  0.628410257\n",
      "   87 |    8700 |  0.023009785 |  0.024666258 |  0.630166113\n",
      "   88 |    8800 |  0.022287513 |  0.024335422 |  0.631158909\n",
      "   89 |    8900 |  0.021224542 |  0.023882100 |  0.632222728\n",
      "   90 |    9000 |  0.020812277 |  0.023653971 |  0.633107584\n",
      "   91 |    9100 |  0.019702320 |  0.021948409 |  0.634596938\n",
      "   92 |    9200 |  0.018956687 |  0.021193004 |  0.635747164\n",
      "   93 |    9300 |  0.018349701 |  0.020334788 |  0.636543240\n",
      "   94 |    9400 |  0.017801290 |  0.018978580 |  0.637355928\n",
      "   95 |    9500 |  0.017071644 |  0.017829151 |  0.638434900\n",
      "   96 |    9600 |  0.016708609 |  0.017665331 |  0.639047576\n",
      "   97 |    9700 |  0.016442695 |  0.017397948 |  0.639471159\n",
      "   98 |    9800 |  0.015808707 |  0.017057298 |  0.640313855\n",
      "   99 |    9900 |  0.015440086 |  0.016400904 |  0.641065347\n",
      "  100 |   10000 |  0.015117480 |  0.016260039 |  0.641530809\n",
      "  101 |   10100 |  0.014705455 |  0.015583744 |  0.641945047\n",
      "  102 |   10200 |  0.014296637 |  0.015586164 |  0.642627440\n",
      "  103 |   10300 |  0.014140400 |  0.014970707 |  0.643090200\n",
      "  104 |   10400 |  0.013533680 |  0.014269288 |  0.643918075\n",
      "  105 |   10500 |  0.013067747 |  0.013848893 |  0.644640244\n",
      "  106 |   10600 |  0.012331920 |  0.013244878 |  0.645563627\n",
      "  107 |   10700 |  0.011791293 |  0.013043977 |  0.646466158\n",
      "  108 |   10800 |  0.011312148 |  0.012571245 |  0.647192413\n",
      "  109 |   10900 |  0.011190584 |  0.012520535 |  0.647447808\n",
      "  110 |   11000 |  0.011095520 |  0.011656331 |  0.647595261\n",
      "  111 |   11100 |  0.010718771 |  0.011730793 |  0.648213893\n",
      "  112 |   11200 |  0.010458880 |  0.011428462 |  0.648595121\n",
      "  113 |   11300 |  0.010342578 |  0.011160525 |  0.648675216\n",
      "  114 |   11400 |  0.010225574 |  0.011067197 |  0.648873488\n",
      "  115 |   11500 |  0.009830703 |  0.010667630 |  0.649533507\n",
      "  116 |   11600 |  0.009824060 |  0.010720779 |  0.649738455\n",
      "  117 |   11700 |  0.009709283 |  0.010368642 |  0.649930447\n",
      "  118 |   11800 |  0.009683732 |  0.010222075 |  0.649956706\n",
      "  119 |   11900 |  0.009517697 |  0.009773129 |  0.650217198\n",
      "  120 |   12000 |  0.009300500 |  0.009513733 |  0.650376548\n",
      "  121 |   12100 |  0.009266825 |  0.009462356 |  0.650567397\n",
      "  122 |   12200 |  0.009375816 |  0.010138682 |  0.650694318\n",
      "  123 |   12300 |  0.009206148 |  0.009918187 |  0.650984594\n",
      "  124 |   12400 |  0.009129090 |  0.009900447 |  0.651116181\n",
      "  125 |   12500 |  0.008991062 |  0.009406194 |  0.651475750\n",
      "  126 |   12600 |  0.009093495 |  0.009876741 |  0.651383431\n",
      "  127 |   12700 |  0.009105497 |  0.009812565 |  0.651331288\n",
      "  128 |   12800 |  0.008718615 |  0.009604699 |  0.651940853\n",
      "  129 |   12900 |  0.008601284 |  0.009458486 |  0.652112767\n",
      "  130 |   13000 |  0.008572274 |  0.009351177 |  0.652151246\n",
      "  131 |   13100 |  0.008498988 |  0.009334569 |  0.652359009\n",
      "  132 |   13200 |  0.008348828 |  0.008340125 |  0.652330049\n",
      "  133 |   13300 |  0.008091243 |  0.008482200 |  0.652860877\n",
      "  134 |   13400 |  0.008080583 |  0.008636487 |  0.652980692\n"
     ]
    },
    {
     "name": "stdout",
     "output_type": "stream",
     "text": [
      "  135 |   13500 |  0.007741729 |  0.008169321 |  0.653254999\n",
      "  136 |   13600 |  0.007881799 |  0.008515117 |  0.653095806\n",
      "  137 |   13700 |  0.008061790 |  0.008200454 |  0.652863176\n",
      "  138 |   13800 |  0.007854627 |  0.008120995 |  0.653274630\n",
      "  139 |   13900 |  0.007650365 |  0.007941395 |  0.653658063\n",
      "  140 |   14000 |  0.007350081 |  0.007543399 |  0.653859287\n",
      "  141 |   14100 |  0.007496230 |  0.008157989 |  0.653642278\n",
      "  142 |   14200 |  0.007327358 |  0.008210623 |  0.653870132\n",
      "  143 |   14300 |  0.007528801 |  0.008119606 |  0.653746532\n",
      "  144 |   14400 |  0.007534946 |  0.008122157 |  0.653723012\n",
      "  145 |   14500 |  0.007245524 |  0.007997986 |  0.654175094\n",
      "  146 |   14600 |  0.007033061 |  0.007668512 |  0.654529013\n",
      "  147 |   14700 |  0.006930755 |  0.007913533 |  0.654717348\n",
      "  148 |   14800 |  0.006953340 |  0.007939030 |  0.654873981\n",
      "  149 |   14900 |  0.006786343 |  0.007189564 |  0.655018576\n",
      "  150 |   15000 |  0.006504530 |  0.007314722 |  0.655469655\n",
      "  151 |   15100 |  0.006511045 |  0.007627695 |  0.655530653\n",
      "  152 |   15200 |  0.006424822 |  0.007161323 |  0.655602794\n",
      "  153 |   15300 |  0.006278084 |  0.007009916 |  0.655999785\n",
      "  154 |   15400 |  0.006522174 |  0.007179451 |  0.655676859\n",
      "  155 |   15500 |  0.006612904 |  0.007442457 |  0.655816211\n",
      "  156 |   15600 |  0.006687557 |  0.007400312 |  0.655829678\n",
      "  157 |   15700 |  0.006660946 |  0.007350249 |  0.655981472\n",
      "  158 |   15800 |  0.006564173 |  0.007173672 |  0.655877250\n",
      "  159 |   15900 |  0.006500584 |  0.006727823 |  0.655728212\n",
      "  160 |   16000 |  0.006386438 |  0.006854537 |  0.656061173\n",
      "  161 |   16100 |  0.006178350 |  0.006711630 |  0.656337900\n",
      "  162 |   16200 |  0.006127910 |  0.006679305 |  0.656553242\n",
      "  163 |   16300 |  0.006207241 |  0.007078775 |  0.656218143\n",
      "  164 |   16400 |  0.006216440 |  0.006804573 |  0.656278066\n",
      "  165 |   16500 |  0.006364443 |  0.006929551 |  0.656235777\n",
      "  166 |   16600 |  0.006228085 |  0.007220176 |  0.656207484\n",
      "  167 |   16700 |  0.005965607 |  0.006528149 |  0.656324222\n",
      "  168 |   16800 |  0.005967087 |  0.006873905 |  0.656512658\n",
      "  169 |   16900 |  0.006232352 |  0.006644462 |  0.656303661\n",
      "  170 |   17000 |  0.005922678 |  0.006379792 |  0.656568313\n",
      "  171 |   17100 |  0.005924699 |  0.006526069 |  0.656563549\n",
      "  172 |   17200 |  0.005712136 |  0.006512535 |  0.656789312\n",
      "  173 |   17300 |  0.005770994 |  0.006666900 |  0.656896443\n",
      "  174 |   17400 |  0.005790030 |  0.006818448 |  0.656809372\n",
      "  175 |   17500 |  0.005738125 |  0.006431682 |  0.656966427\n",
      "  176 |   17600 |  0.005989213 |  0.006424717 |  0.656769660\n",
      "  177 |   17700 |  0.005932513 |  0.006795831 |  0.656992362\n",
      "  178 |   17800 |  0.005647902 |  0.006283450 |  0.657165208\n",
      "  179 |   17900 |  0.005392044 |  0.005931494 |  0.657439076\n",
      "  180 |   18000 |  0.005297486 |  0.006214351 |  0.657561649\n",
      "  181 |   18100 |  0.005151506 |  0.005930251 |  0.657662369\n",
      "  182 |   18200 |  0.005439241 |  0.006531620 |  0.657612089\n",
      "  183 |   18300 |  0.005148826 |  0.006606774 |  0.657906902\n",
      "  184 |   18400 |  0.005366097 |  0.006712699 |  0.657846269\n",
      "  185 |   18500 |  0.005544033 |  0.006847790 |  0.657743368\n",
      "  186 |   18600 |  0.005448294 |  0.006211099 |  0.657795742\n",
      "  187 |   18700 |  0.005329560 |  0.006225566 |  0.658006075\n",
      "  188 |   18800 |  0.005414950 |  0.005726875 |  0.657489965\n",
      "  189 |   18900 |  0.005780543 |  0.006129200 |  0.657457507\n",
      "  190 |   19000 |  0.005675798 |  0.006291289 |  0.657789022\n",
      "  191 |   19100 |  0.005460365 |  0.006124017 |  0.657844966\n",
      "  192 |   19200 |  0.005412510 |  0.005823804 |  0.657874896\n",
      "  193 |   19300 |  0.005277006 |  0.005793369 |  0.658087577\n",
      "  194 |   19400 |  0.005367105 |  0.006297272 |  0.658133227\n",
      "  195 |   19500 |  0.005533635 |  0.006373154 |  0.658074358\n",
      "  196 |   19600 |  0.005207071 |  0.006229242 |  0.658251933\n",
      "  197 |   19700 |  0.005107543 |  0.005752252 |  0.658412837\n",
      "  198 |   19800 |  0.005209927 |  0.005906851 |  0.658476027\n",
      "  199 |   19900 |  0.005206977 |  0.005966480 |  0.658561138\n",
      "  200 |   20000 |  0.005050356 |  0.005720054 |  0.658699698\n"
     ]
    },
    {
     "data": {
      "text/plain": [
       "<pymoo.visualization.scatter.Scatter at 0x7f04bb930be0>"
      ]
     },
     "execution_count": 2,
     "metadata": {},
     "output_type": "execute_result"
    },
    {
     "data": {
      "image/png": "[encoded data removed]",
      "text/plain": [
       "<Figure size 576x432 with 1 Axes>"
      ]
     },
     "metadata": {
      "needs_background": "light"
     },
     "output_type": "display_data"
    }
   ],
   "source": [
    "from pymoo.algorithms.moo.nsga2 import NSGA2\n",
    "from pymoo.factory import get_problem\n",
    "from pymoo.optimize import minimize\n",
    "from pymoo.visualization.scatter import Scatter\n",
    "\n",
    "problem = get_problem(\"zdt1\")\n",
    "\n",
    "algorithm = NSGA2(pop_size=100)\n",
    "\n",
    "res = minimize(problem,\n",
    "               algorithm,\n",
    "               ('n_gen', 200),\n",
    "               seed=1,\n",
    "               verbose=True)\n",
    "\n",
    "plot = Scatter()\n",
    "plot.add(problem.pareto_front(), plot_type=\"line\", color=\"black\", alpha=0.7)\n",
    "plot.add(res.F, color=\"red\")\n",
    "plot.show()"
   ]
  },
  {
   "cell_type": "code",
   "execution_count": null,
   "id": "77e514d2",
   "metadata": {},
   "outputs": [],
   "source": []
  }
 ],
 "metadata": {
  "kernelspec": {
   "display_name": "Python 3 (ipykernel)",
   "language": "python",
   "name": "python3"
  },
  "language_info": {
   "codemirror_mode": {
    "name": "ipython",
    "version": 3
   },
   "file_extension": ".py",
   "mimetype": "text/x-python",
   "name": "python",
   "nbconvert_exporter": "python",
   "pygments_lexer": "ipython3",
   "version": "3.8.12"
  }
 },
 "nbformat": 4,
 "nbformat_minor": 5
}
